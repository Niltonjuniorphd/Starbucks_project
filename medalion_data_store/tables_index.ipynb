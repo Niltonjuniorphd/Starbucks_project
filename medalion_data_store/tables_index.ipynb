{
 "cells": [
  {
   "cell_type": "markdown",
   "metadata": {},
   "source": [
    "# This notebook contais descriptions for the tables in the data store"
   ]
  },
  {
   "cell_type": "code",
   "execution_count": 43,
   "metadata": {},
   "outputs": [],
   "source": [
    "import pandas as pd"
   ]
  },
  {
   "cell_type": "code",
   "execution_count": 44,
   "metadata": {},
   "outputs": [
    {
     "name": "stdout",
     "output_type": "stream",
     "text": [
      "<class 'pandas.core.frame.DataFrame'>\n",
      "RangeIndex: 10 entries, 0 to 9\n",
      "Data columns (total 7 columns):\n",
      " #   Column        Non-Null Count  Dtype \n",
      "---  ------        --------------  ----- \n",
      " 0   reward        10 non-null     int64 \n",
      " 1   channels      10 non-null     object\n",
      " 2   difficulty    10 non-null     int64 \n",
      " 3   duration      10 non-null     int64 \n",
      " 4   offer_type    10 non-null     object\n",
      " 5   id            10 non-null     object\n",
      " 6   ofr_id_short  10 non-null     object\n",
      "dtypes: int64(3), object(4)\n",
      "memory usage: 692.0+ bytes\n"
     ]
    }
   ],
   "source": [
    "portfolio = pd.read_csv('bronze/portfolio.csv')\n",
    "portfolio.info()"
   ]
  },
  {
   "cell_type": "code",
   "execution_count": 45,
   "metadata": {},
   "outputs": [
    {
     "name": "stdout",
     "output_type": "stream",
     "text": [
      "<class 'pandas.core.frame.DataFrame'>\n",
      "RangeIndex: 17000 entries, 0 to 16999\n",
      "Data columns (total 8 columns):\n",
      " #   Column               Non-Null Count  Dtype  \n",
      "---  ------               --------------  -----  \n",
      " 0   Unnamed: 0           17000 non-null  int64  \n",
      " 1   gender               14825 non-null  object \n",
      " 2   age                  17000 non-null  int64  \n",
      " 3   id                   17000 non-null  object \n",
      " 4   became_member_on     17000 non-null  object \n",
      " 5   income               14825 non-null  float64\n",
      " 6   bec_memb_year_month  17000 non-null  object \n",
      " 7   age_group            17000 non-null  object \n",
      "dtypes: float64(1), int64(2), object(5)\n",
      "memory usage: 1.0+ MB\n"
     ]
    }
   ],
   "source": [
    "profile = pd.read_csv('bronze/profile.csv')\n",
    "profile.info()"
   ]
  },
  {
   "cell_type": "code",
   "execution_count": 46,
   "metadata": {},
   "outputs": [
    {
     "data": {
      "text/html": [
       "<div>\n",
       "<style scoped>\n",
       "    .dataframe tbody tr th:only-of-type {\n",
       "        vertical-align: middle;\n",
       "    }\n",
       "\n",
       "    .dataframe tbody tr th {\n",
       "        vertical-align: top;\n",
       "    }\n",
       "\n",
       "    .dataframe thead th {\n",
       "        text-align: right;\n",
       "    }\n",
       "</style>\n",
       "<table border=\"1\" class=\"dataframe\">\n",
       "  <thead>\n",
       "    <tr style=\"text-align: right;\">\n",
       "      <th></th>\n",
       "      <th>Unnamed: 0</th>\n",
       "      <th>gender</th>\n",
       "      <th>age</th>\n",
       "      <th>id</th>\n",
       "      <th>became_member_on</th>\n",
       "      <th>income</th>\n",
       "      <th>bec_memb_year_month</th>\n",
       "      <th>age_group</th>\n",
       "    </tr>\n",
       "  </thead>\n",
       "  <tbody>\n",
       "    <tr>\n",
       "      <th>0</th>\n",
       "      <td>0</td>\n",
       "      <td>NaN</td>\n",
       "      <td>118</td>\n",
       "      <td>68be06ca386d4c31939f3a4f0e3dd783</td>\n",
       "      <td>2017-02-12</td>\n",
       "      <td>NaN</td>\n",
       "      <td>2017-02</td>\n",
       "      <td>Senior</td>\n",
       "    </tr>\n",
       "    <tr>\n",
       "      <th>1</th>\n",
       "      <td>1</td>\n",
       "      <td>F</td>\n",
       "      <td>55</td>\n",
       "      <td>0610b486422d4921ae7d2bf64640c50b</td>\n",
       "      <td>2017-07-15</td>\n",
       "      <td>112000.0</td>\n",
       "      <td>2017-07</td>\n",
       "      <td>Middle</td>\n",
       "    </tr>\n",
       "    <tr>\n",
       "      <th>2</th>\n",
       "      <td>2</td>\n",
       "      <td>NaN</td>\n",
       "      <td>118</td>\n",
       "      <td>38fe809add3b4fcf9315a9694bb96ff5</td>\n",
       "      <td>2018-07-12</td>\n",
       "      <td>NaN</td>\n",
       "      <td>2018-07</td>\n",
       "      <td>Senior</td>\n",
       "    </tr>\n",
       "    <tr>\n",
       "      <th>3</th>\n",
       "      <td>3</td>\n",
       "      <td>F</td>\n",
       "      <td>75</td>\n",
       "      <td>78afa995795e4d85b5d9ceeca43f5fef</td>\n",
       "      <td>2017-05-09</td>\n",
       "      <td>100000.0</td>\n",
       "      <td>2017-05</td>\n",
       "      <td>Senior</td>\n",
       "    </tr>\n",
       "    <tr>\n",
       "      <th>4</th>\n",
       "      <td>4</td>\n",
       "      <td>NaN</td>\n",
       "      <td>118</td>\n",
       "      <td>a03223e636434f42ac4c3df47e8bac43</td>\n",
       "      <td>2017-08-04</td>\n",
       "      <td>NaN</td>\n",
       "      <td>2017-08</td>\n",
       "      <td>Senior</td>\n",
       "    </tr>\n",
       "    <tr>\n",
       "      <th>...</th>\n",
       "      <td>...</td>\n",
       "      <td>...</td>\n",
       "      <td>...</td>\n",
       "      <td>...</td>\n",
       "      <td>...</td>\n",
       "      <td>...</td>\n",
       "      <td>...</td>\n",
       "      <td>...</td>\n",
       "    </tr>\n",
       "    <tr>\n",
       "      <th>16995</th>\n",
       "      <td>16995</td>\n",
       "      <td>F</td>\n",
       "      <td>45</td>\n",
       "      <td>6d5f3a774f3d4714ab0c092238f3a1d7</td>\n",
       "      <td>2018-06-04</td>\n",
       "      <td>54000.0</td>\n",
       "      <td>2018-06</td>\n",
       "      <td>Middle</td>\n",
       "    </tr>\n",
       "    <tr>\n",
       "      <th>16996</th>\n",
       "      <td>16996</td>\n",
       "      <td>M</td>\n",
       "      <td>61</td>\n",
       "      <td>2cb4f97358b841b9a9773a7aa05a9d77</td>\n",
       "      <td>2018-07-13</td>\n",
       "      <td>72000.0</td>\n",
       "      <td>2018-07</td>\n",
       "      <td>Senior</td>\n",
       "    </tr>\n",
       "    <tr>\n",
       "      <th>16997</th>\n",
       "      <td>16997</td>\n",
       "      <td>M</td>\n",
       "      <td>49</td>\n",
       "      <td>01d26f638c274aa0b965d24cefe3183f</td>\n",
       "      <td>2017-01-26</td>\n",
       "      <td>73000.0</td>\n",
       "      <td>2017-01</td>\n",
       "      <td>Middle</td>\n",
       "    </tr>\n",
       "    <tr>\n",
       "      <th>16998</th>\n",
       "      <td>16998</td>\n",
       "      <td>F</td>\n",
       "      <td>83</td>\n",
       "      <td>9dc1421481194dcd9400aec7c9ae6366</td>\n",
       "      <td>2016-03-07</td>\n",
       "      <td>50000.0</td>\n",
       "      <td>2016-03</td>\n",
       "      <td>Senior</td>\n",
       "    </tr>\n",
       "    <tr>\n",
       "      <th>16999</th>\n",
       "      <td>16999</td>\n",
       "      <td>F</td>\n",
       "      <td>62</td>\n",
       "      <td>e4052622e5ba45a8b96b59aba68cf068</td>\n",
       "      <td>2017-07-22</td>\n",
       "      <td>82000.0</td>\n",
       "      <td>2017-07</td>\n",
       "      <td>Senior</td>\n",
       "    </tr>\n",
       "  </tbody>\n",
       "</table>\n",
       "<p>17000 rows × 8 columns</p>\n",
       "</div>"
      ],
      "text/plain": [
       "       Unnamed: 0 gender  age                                id  \\\n",
       "0               0    NaN  118  68be06ca386d4c31939f3a4f0e3dd783   \n",
       "1               1      F   55  0610b486422d4921ae7d2bf64640c50b   \n",
       "2               2    NaN  118  38fe809add3b4fcf9315a9694bb96ff5   \n",
       "3               3      F   75  78afa995795e4d85b5d9ceeca43f5fef   \n",
       "4               4    NaN  118  a03223e636434f42ac4c3df47e8bac43   \n",
       "...           ...    ...  ...                               ...   \n",
       "16995       16995      F   45  6d5f3a774f3d4714ab0c092238f3a1d7   \n",
       "16996       16996      M   61  2cb4f97358b841b9a9773a7aa05a9d77   \n",
       "16997       16997      M   49  01d26f638c274aa0b965d24cefe3183f   \n",
       "16998       16998      F   83  9dc1421481194dcd9400aec7c9ae6366   \n",
       "16999       16999      F   62  e4052622e5ba45a8b96b59aba68cf068   \n",
       "\n",
       "      became_member_on    income bec_memb_year_month age_group  \n",
       "0           2017-02-12       NaN             2017-02    Senior  \n",
       "1           2017-07-15  112000.0             2017-07    Middle  \n",
       "2           2018-07-12       NaN             2018-07    Senior  \n",
       "3           2017-05-09  100000.0             2017-05    Senior  \n",
       "4           2017-08-04       NaN             2017-08    Senior  \n",
       "...                ...       ...                 ...       ...  \n",
       "16995       2018-06-04   54000.0             2018-06    Middle  \n",
       "16996       2018-07-13   72000.0             2018-07    Senior  \n",
       "16997       2017-01-26   73000.0             2017-01    Middle  \n",
       "16998       2016-03-07   50000.0             2016-03    Senior  \n",
       "16999       2017-07-22   82000.0             2017-07    Senior  \n",
       "\n",
       "[17000 rows x 8 columns]"
      ]
     },
     "execution_count": 46,
     "metadata": {},
     "output_type": "execute_result"
    }
   ],
   "source": [
    "profile"
   ]
  },
  {
   "cell_type": "code",
   "execution_count": 47,
   "metadata": {},
   "outputs": [
    {
     "name": "stdout",
     "output_type": "stream",
     "text": [
      "<class 'pandas.core.frame.DataFrame'>\n",
      "RangeIndex: 306534 entries, 0 to 306533\n",
      "Data columns (total 7 columns):\n",
      " #   Column        Non-Null Count   Dtype  \n",
      "---  ------        --------------   -----  \n",
      " 0   person        306534 non-null  object \n",
      " 1   event         306534 non-null  object \n",
      " 2   time          306534 non-null  int64  \n",
      " 3   amount        138953 non-null  float64\n",
      " 4   reward        33579 non-null   float64\n",
      " 5   ofr_id_short  306534 non-null  object \n",
      " 6   tag           306534 non-null  int64  \n",
      "dtypes: float64(2), int64(2), object(3)\n",
      "memory usage: 16.4+ MB\n"
     ]
    }
   ],
   "source": [
    "transcript_b = pd.read_csv('bronze/transcript_b.csv')\n",
    "transcript_b.info()"
   ]
  },
  {
   "cell_type": "code",
   "execution_count": 48,
   "metadata": {},
   "outputs": [
    {
     "name": "stdout",
     "output_type": "stream",
     "text": [
      "<class 'pandas.core.frame.DataFrame'>\n",
      "RangeIndex: 167581 entries, 0 to 167580\n",
      "Data columns (total 6 columns):\n",
      " #   Column        Non-Null Count   Dtype  \n",
      "---  ------        --------------   -----  \n",
      " 0   person        167581 non-null  object \n",
      " 1   event         167581 non-null  object \n",
      " 2   time          167581 non-null  int64  \n",
      " 3   reward        33579 non-null   float64\n",
      " 4   ofr_id_short  167581 non-null  object \n",
      " 5   tag           167581 non-null  int64  \n",
      "dtypes: float64(1), int64(2), object(3)\n",
      "memory usage: 7.7+ MB\n"
     ]
    }
   ],
   "source": [
    "events = pd.read_csv('bronze/events.csv')\n",
    "events.info()"
   ]
  },
  {
   "cell_type": "code",
   "execution_count": 49,
   "metadata": {},
   "outputs": [
    {
     "name": "stdout",
     "output_type": "stream",
     "text": [
      "<class 'pandas.core.frame.DataFrame'>\n",
      "RangeIndex: 138953 entries, 0 to 138952\n",
      "Data columns (total 5 columns):\n",
      " #   Column  Non-Null Count   Dtype  \n",
      "---  ------  --------------   -----  \n",
      " 0   person  138953 non-null  object \n",
      " 1   event   138953 non-null  object \n",
      " 2   time    138953 non-null  int64  \n",
      " 3   amount  138953 non-null  float64\n",
      " 4   tag     138953 non-null  int64  \n",
      "dtypes: float64(1), int64(2), object(2)\n",
      "memory usage: 5.3+ MB\n"
     ]
    }
   ],
   "source": [
    "transactions = pd.read_csv('bronze/transactions.csv')\n",
    "transactions.info()"
   ]
  },
  {
   "cell_type": "code",
   "execution_count": 50,
   "metadata": {},
   "outputs": [
    {
     "name": "stdout",
     "output_type": "stream",
     "text": [
      "<class 'pandas.core.frame.DataFrame'>\n",
      "RangeIndex: 10 entries, 0 to 9\n",
      "Data columns (total 6 columns):\n",
      " #   Column           Non-Null Count  Dtype  \n",
      "---  ------           --------------  -----  \n",
      " 0   ofr_id_short     10 non-null     object \n",
      " 1   cnt_completed    10 non-null     float64\n",
      " 2   cnt_received     10 non-null     float64\n",
      " 3   cnt_viewed       10 non-null     float64\n",
      " 4   completion_rate  10 non-null     float64\n",
      " 5   viewed_rate      10 non-null     float64\n",
      "dtypes: float64(5), object(1)\n",
      "memory usage: 612.0+ bytes\n"
     ]
    }
   ],
   "source": [
    "offer_rank = pd.read_csv('silver/offer_rank.csv')\n",
    "offer_rank.info()"
   ]
  },
  {
   "cell_type": "code",
   "execution_count": 51,
   "metadata": {},
   "outputs": [
    {
     "name": "stdout",
     "output_type": "stream",
     "text": [
      "<class 'pandas.core.frame.DataFrame'>\n",
      "RangeIndex: 63288 entries, 0 to 63287\n",
      "Data columns (total 16 columns):\n",
      " #   Column           Non-Null Count  Dtype  \n",
      "---  ------           --------------  -----  \n",
      " 0   person           63288 non-null  object \n",
      " 1   ofr_id_short     63288 non-null  object \n",
      " 2   cnt_eve          63288 non-null  int64  \n",
      " 3   sum_rew_eve      63288 non-null  float64\n",
      " 4   mean_rew_eve     63288 non-null  float64\n",
      " 5   median_rew_eve   63288 non-null  float64\n",
      " 6   min_rew_eve      63288 non-null  float64\n",
      " 7   max_rew_eve      63288 non-null  float64\n",
      " 8   range_rew_eve    63288 non-null  float64\n",
      " 9   mean_t_eve       63288 non-null  float64\n",
      " 10  median_t_eve     63288 non-null  float64\n",
      " 11  min_t_eve        63288 non-null  int64  \n",
      " 12  max_t_eve        63288 non-null  int64  \n",
      " 13  range_t_eve      63288 non-null  int64  \n",
      " 14  freq_eve         63288 non-null  float64\n",
      " 15  last_to_end_eve  63288 non-null  int64  \n",
      "dtypes: float64(9), int64(5), object(2)\n",
      "memory usage: 7.7+ MB\n"
     ]
    }
   ],
   "source": [
    "user_item_events = pd.read_csv('silver/user_item_events.csv')\n",
    "user_item_events.info()"
   ]
  },
  {
   "cell_type": "code",
   "execution_count": 52,
   "metadata": {},
   "outputs": [
    {
     "name": "stdout",
     "output_type": "stream",
     "text": [
      "<class 'pandas.core.frame.DataFrame'>\n",
      "RangeIndex: 16578 entries, 0 to 16577\n",
      "Data columns (total 15 columns):\n",
      " #   Column             Non-Null Count  Dtype  \n",
      "---  ------             --------------  -----  \n",
      " 0   person             16578 non-null  object \n",
      " 1   cnt_tran           16578 non-null  int64  \n",
      " 2   sum_am_tran        16578 non-null  float64\n",
      " 3   mean_am_tran       16578 non-null  float64\n",
      " 4   median_am_tran     16578 non-null  float64\n",
      " 5   min_am_tran        16578 non-null  float64\n",
      " 6   max_am_tran        16578 non-null  float64\n",
      " 7   range_amount_tran  16578 non-null  float64\n",
      " 8   mean_t_tran        16578 non-null  float64\n",
      " 9   median_t_tran      16578 non-null  float64\n",
      " 10  min_t_tran         16578 non-null  int64  \n",
      " 11  max_t_tran         16578 non-null  int64  \n",
      " 12  range_t_tran       16578 non-null  int64  \n",
      " 13  freq_tran          16578 non-null  float64\n",
      " 14  last_to_end_tran   16578 non-null  int64  \n",
      "dtypes: float64(9), int64(5), object(1)\n",
      "memory usage: 1.9+ MB\n"
     ]
    }
   ],
   "source": [
    "user_item_transactions = pd.read_csv('silver/user_item_transactions.csv')\n",
    "user_item_transactions.info()"
   ]
  },
  {
   "cell_type": "code",
   "execution_count": 53,
   "metadata": {},
   "outputs": [
    {
     "name": "stdout",
     "output_type": "stream",
     "text": [
      "<class 'pandas.core.frame.DataFrame'>\n",
      "RangeIndex: 76277 entries, 0 to 76276\n",
      "Data columns (total 12 columns):\n",
      " #   Column         Non-Null Count  Dtype  \n",
      "---  ------         --------------  -----  \n",
      " 0   person         76277 non-null  object \n",
      " 1   ofr_id_short   76277 non-null  object \n",
      " 2   tag            76277 non-null  int64  \n",
      " 3   cnt_completed  76277 non-null  float64\n",
      " 4   cnt_received   76277 non-null  float64\n",
      " 5   cnt_viewed     76277 non-null  float64\n",
      " 6   stage          76277 non-null  float64\n",
      " 7   curiosity_vr   76277 non-null  float64\n",
      " 8   eagerness_cv   76277 non-null  float64\n",
      " 9   overall_cr     76277 non-null  float64\n",
      " 10  influence      76277 non-null  int64  \n",
      " 11  ext_influence  76277 non-null  int64  \n",
      "dtypes: float64(7), int64(3), object(2)\n",
      "memory usage: 7.0+ MB\n"
     ]
    }
   ],
   "source": [
    "user_item_u_event = pd.read_csv('silver/user_item_u_event.csv')\n",
    "user_item_u_event.info()"
   ]
  },
  {
   "cell_type": "code",
   "execution_count": 55,
   "metadata": {},
   "outputs": [
    {
     "name": "stdout",
     "output_type": "stream",
     "text": [
      "<class 'pandas.core.frame.DataFrame'>\n",
      "RangeIndex: 16578 entries, 0 to 16577\n",
      "Data columns (total 24 columns):\n",
      " #   Column     Non-Null Count  Dtype  \n",
      "---  ------     --------------  -----  \n",
      " 0   person     16578 non-null  object \n",
      " 1   period_1   16578 non-null  float64\n",
      " 2   period_2   16578 non-null  float64\n",
      " 3   period_3   16578 non-null  float64\n",
      " 4   period_4   16578 non-null  float64\n",
      " 5   period_5   16578 non-null  float64\n",
      " 6   period_6   16578 non-null  float64\n",
      " 7   period_7   16578 non-null  float64\n",
      " 8   period_8   16578 non-null  float64\n",
      " 9   period_9   16578 non-null  float64\n",
      " 10  period_10  16578 non-null  float64\n",
      " 11  period_11  16578 non-null  float64\n",
      " 12  period_12  16578 non-null  float64\n",
      " 13  period_13  16578 non-null  float64\n",
      " 14  period_14  16578 non-null  float64\n",
      " 15  period_15  16578 non-null  float64\n",
      " 16  period_16  16578 non-null  float64\n",
      " 17  period_17  16578 non-null  float64\n",
      " 18  period_18  16578 non-null  float64\n",
      " 19  period_19  16578 non-null  float64\n",
      " 20  period_20  16578 non-null  float64\n",
      " 21  recency    16578 non-null  int64  \n",
      " 22  churn      16578 non-null  int64  \n",
      " 23  churn2     16578 non-null  int64  \n",
      "dtypes: float64(20), int64(3), object(1)\n",
      "memory usage: 3.0+ MB\n"
     ]
    }
   ],
   "source": [
    "transactions_time = pd.read_csv('silver/transactions_time.csv')\n",
    "transactions_time.info()"
   ]
  },
  {
   "cell_type": "code",
   "execution_count": 56,
   "metadata": {},
   "outputs": [
    {
     "name": "stdout",
     "output_type": "stream",
     "text": [
      "<class 'pandas.core.frame.DataFrame'>\n",
      "RangeIndex: 76277 entries, 0 to 76276\n",
      "Data columns (total 69 columns):\n",
      " #   Column               Non-Null Count  Dtype  \n",
      "---  ------               --------------  -----  \n",
      " 0   person               76277 non-null  object \n",
      " 1   ofr_id_short         76277 non-null  object \n",
      " 2   tag                  76277 non-null  int64  \n",
      " 3   cnt_completed        76277 non-null  float64\n",
      " 4   cnt_received         76277 non-null  float64\n",
      " 5   cnt_viewed           76277 non-null  float64\n",
      " 6   stage                76277 non-null  float64\n",
      " 7   curiosity_vr         76277 non-null  float64\n",
      " 8   eagerness_cv         76277 non-null  float64\n",
      " 9   overall_cr           76277 non-null  float64\n",
      " 10  influence            76277 non-null  int64  \n",
      " 11  ext_influence        76277 non-null  int64  \n",
      " 12  gender               66501 non-null  object \n",
      " 13  age                  76277 non-null  int64  \n",
      " 14  became_member_on     76277 non-null  object \n",
      " 15  income               66501 non-null  float64\n",
      " 16  bec_memb_year_month  76277 non-null  object \n",
      " 17  age_group            76277 non-null  object \n",
      " 18  cnt_eve              76277 non-null  int64  \n",
      " 19  sum_rew_eve          76277 non-null  float64\n",
      " 20  mean_rew_eve         76277 non-null  float64\n",
      " 21  median_rew_eve       76277 non-null  float64\n",
      " 22  min_rew_eve          76277 non-null  float64\n",
      " 23  max_rew_eve          76277 non-null  float64\n",
      " 24  range_rew_eve        76277 non-null  float64\n",
      " 25  mean_t_eve           76277 non-null  float64\n",
      " 26  median_t_eve         76277 non-null  float64\n",
      " 27  min_t_eve            76277 non-null  int64  \n",
      " 28  max_t_eve            76277 non-null  int64  \n",
      " 29  range_t_eve          76277 non-null  int64  \n",
      " 30  freq_eve             76277 non-null  float64\n",
      " 31  last_to_end_eve      76277 non-null  int64  \n",
      " 32  cnt_tran             74396 non-null  float64\n",
      " 33  sum_am_tran          74396 non-null  float64\n",
      " 34  mean_am_tran         74396 non-null  float64\n",
      " 35  median_am_tran       74396 non-null  float64\n",
      " 36  min_am_tran          74396 non-null  float64\n",
      " 37  max_am_tran          74396 non-null  float64\n",
      " 38  range_amount_tran    74396 non-null  float64\n",
      " 39  mean_t_tran          74396 non-null  float64\n",
      " 40  median_t_tran        74396 non-null  float64\n",
      " 41  min_t_tran           74396 non-null  float64\n",
      " 42  max_t_tran           74396 non-null  float64\n",
      " 43  range_t_tran         74396 non-null  float64\n",
      " 44  freq_tran            74396 non-null  float64\n",
      " 45  last_to_end_tran     74396 non-null  float64\n",
      " 46  period_1             74396 non-null  float64\n",
      " 47  period_2             74396 non-null  float64\n",
      " 48  period_3             74396 non-null  float64\n",
      " 49  period_4             74396 non-null  float64\n",
      " 50  period_5             74396 non-null  float64\n",
      " 51  period_6             74396 non-null  float64\n",
      " 52  period_7             74396 non-null  float64\n",
      " 53  period_8             74396 non-null  float64\n",
      " 54  period_9             74396 non-null  float64\n",
      " 55  period_10            74396 non-null  float64\n",
      " 56  period_11            74396 non-null  float64\n",
      " 57  period_12            74396 non-null  float64\n",
      " 58  period_13            74396 non-null  float64\n",
      " 59  period_14            74396 non-null  float64\n",
      " 60  period_15            74396 non-null  float64\n",
      " 61  period_16            74396 non-null  float64\n",
      " 62  period_17            74396 non-null  float64\n",
      " 63  period_18            74396 non-null  float64\n",
      " 64  period_19            74396 non-null  float64\n",
      " 65  period_20            74396 non-null  float64\n",
      " 66  recency              74396 non-null  float64\n",
      " 67  churn                74396 non-null  float64\n",
      " 68  churn2               74396 non-null  float64\n",
      "dtypes: float64(54), int64(9), object(6)\n",
      "memory usage: 40.2+ MB\n"
     ]
    }
   ],
   "source": [
    "analytical_table = pd.read_csv('gold/analytical_table.csv')\n",
    "analytical_table.info()"
   ]
  }
 ],
 "metadata": {
  "kernelspec": {
   "display_name": ".env",
   "language": "python",
   "name": "python3"
  },
  "language_info": {
   "codemirror_mode": {
    "name": "ipython",
    "version": 3
   },
   "file_extension": ".py",
   "mimetype": "text/x-python",
   "name": "python",
   "nbconvert_exporter": "python",
   "pygments_lexer": "ipython3",
   "version": "3.13.0"
  }
 },
 "nbformat": 4,
 "nbformat_minor": 2
}
