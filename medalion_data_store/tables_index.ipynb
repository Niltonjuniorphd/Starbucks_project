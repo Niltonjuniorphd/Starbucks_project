{
 "cells": [
  {
   "cell_type": "markdown",
   "metadata": {},
   "source": [
    "# This notebook contais .info() for the tables in the data store"
   ]
  },
  {
   "cell_type": "code",
   "execution_count": 23,
   "metadata": {},
   "outputs": [],
   "source": [
    "import pandas as pd"
   ]
  },
  {
   "cell_type": "code",
   "execution_count": 24,
   "metadata": {},
   "outputs": [
    {
     "name": "stdout",
     "output_type": "stream",
     "text": [
      "<class 'pandas.core.frame.DataFrame'>\n",
      "RangeIndex: 10 entries, 0 to 9\n",
      "Data columns (total 7 columns):\n",
      " #   Column        Non-Null Count  Dtype \n",
      "---  ------        --------------  ----- \n",
      " 0   reward        10 non-null     int64 \n",
      " 1   channels      10 non-null     object\n",
      " 2   difficulty    10 non-null     int64 \n",
      " 3   duration      10 non-null     int64 \n",
      " 4   offer_type    10 non-null     object\n",
      " 5   id            10 non-null     object\n",
      " 6   ofr_id_short  10 non-null     object\n",
      "dtypes: int64(3), object(4)\n",
      "memory usage: 692.0+ bytes\n"
     ]
    }
   ],
   "source": [
    "portfolio = pd.read_csv('bronze/portfolio.csv')\n",
    "portfolio.info()"
   ]
  },
  {
   "cell_type": "code",
   "execution_count": 25,
   "metadata": {},
   "outputs": [
    {
     "name": "stdout",
     "output_type": "stream",
     "text": [
      "<class 'pandas.core.frame.DataFrame'>\n",
      "RangeIndex: 17000 entries, 0 to 16999\n",
      "Data columns (total 7 columns):\n",
      " #   Column               Non-Null Count  Dtype  \n",
      "---  ------               --------------  -----  \n",
      " 0   gender               14825 non-null  object \n",
      " 1   age                  17000 non-null  int64  \n",
      " 2   id                   17000 non-null  object \n",
      " 3   became_member_on     17000 non-null  object \n",
      " 4   income               14825 non-null  float64\n",
      " 5   bec_memb_year_month  17000 non-null  object \n",
      " 6   age_group            17000 non-null  object \n",
      "dtypes: float64(1), int64(1), object(5)\n",
      "memory usage: 929.8+ KB\n"
     ]
    }
   ],
   "source": [
    "profile = pd.read_csv('bronze/profile.csv')\n",
    "profile.info()"
   ]
  },
  {
   "cell_type": "code",
   "execution_count": 26,
   "metadata": {},
   "outputs": [
    {
     "name": "stdout",
     "output_type": "stream",
     "text": [
      "<class 'pandas.core.frame.DataFrame'>\n",
      "RangeIndex: 306534 entries, 0 to 306533\n",
      "Data columns (total 7 columns):\n",
      " #   Column        Non-Null Count   Dtype  \n",
      "---  ------        --------------   -----  \n",
      " 0   person        306534 non-null  object \n",
      " 1   event         306534 non-null  object \n",
      " 2   time          306534 non-null  int64  \n",
      " 3   amount        138953 non-null  float64\n",
      " 4   reward        33579 non-null   float64\n",
      " 5   ofr_id_short  306534 non-null  object \n",
      " 6   tag           306534 non-null  int64  \n",
      "dtypes: float64(2), int64(2), object(3)\n",
      "memory usage: 16.4+ MB\n"
     ]
    }
   ],
   "source": [
    "transcript_b = pd.read_csv('bronze/transcript_b.csv')\n",
    "transcript_b.info()"
   ]
  },
  {
   "cell_type": "code",
   "execution_count": 27,
   "metadata": {},
   "outputs": [
    {
     "data": {
      "text/html": [
       "<div>\n",
       "<style scoped>\n",
       "    .dataframe tbody tr th:only-of-type {\n",
       "        vertical-align: middle;\n",
       "    }\n",
       "\n",
       "    .dataframe tbody tr th {\n",
       "        vertical-align: top;\n",
       "    }\n",
       "\n",
       "    .dataframe thead th {\n",
       "        text-align: right;\n",
       "    }\n",
       "</style>\n",
       "<table border=\"1\" class=\"dataframe\">\n",
       "  <thead>\n",
       "    <tr style=\"text-align: right;\">\n",
       "      <th></th>\n",
       "      <th>person</th>\n",
       "      <th>event</th>\n",
       "      <th>time</th>\n",
       "      <th>amount</th>\n",
       "      <th>reward</th>\n",
       "      <th>ofr_id_short</th>\n",
       "      <th>tag</th>\n",
       "    </tr>\n",
       "  </thead>\n",
       "  <tbody>\n",
       "    <tr>\n",
       "      <th>0</th>\n",
       "      <td>78afa995795e4d85b5d9ceeca43f5fef</td>\n",
       "      <td>received</td>\n",
       "      <td>0</td>\n",
       "      <td>NaN</td>\n",
       "      <td>NaN</td>\n",
       "      <td>ofr_D</td>\n",
       "      <td>0</td>\n",
       "    </tr>\n",
       "    <tr>\n",
       "      <th>1</th>\n",
       "      <td>a03223e636434f42ac4c3df47e8bac43</td>\n",
       "      <td>received</td>\n",
       "      <td>0</td>\n",
       "      <td>NaN</td>\n",
       "      <td>NaN</td>\n",
       "      <td>ofr_E</td>\n",
       "      <td>0</td>\n",
       "    </tr>\n",
       "    <tr>\n",
       "      <th>2</th>\n",
       "      <td>e2127556f4f64592b11af22de27a7932</td>\n",
       "      <td>received</td>\n",
       "      <td>0</td>\n",
       "      <td>NaN</td>\n",
       "      <td>NaN</td>\n",
       "      <td>ofr_J</td>\n",
       "      <td>0</td>\n",
       "    </tr>\n",
       "    <tr>\n",
       "      <th>3</th>\n",
       "      <td>8ec6ce2a7e7949b1bf142def7d0e0586</td>\n",
       "      <td>received</td>\n",
       "      <td>0</td>\n",
       "      <td>NaN</td>\n",
       "      <td>NaN</td>\n",
       "      <td>ofr_G</td>\n",
       "      <td>0</td>\n",
       "    </tr>\n",
       "    <tr>\n",
       "      <th>4</th>\n",
       "      <td>68617ca6246f4fbc85e91a2a49552598</td>\n",
       "      <td>received</td>\n",
       "      <td>0</td>\n",
       "      <td>NaN</td>\n",
       "      <td>NaN</td>\n",
       "      <td>ofr_B</td>\n",
       "      <td>0</td>\n",
       "    </tr>\n",
       "    <tr>\n",
       "      <th>...</th>\n",
       "      <td>...</td>\n",
       "      <td>...</td>\n",
       "      <td>...</td>\n",
       "      <td>...</td>\n",
       "      <td>...</td>\n",
       "      <td>...</td>\n",
       "      <td>...</td>\n",
       "    </tr>\n",
       "    <tr>\n",
       "      <th>306529</th>\n",
       "      <td>b3a1272bc9904337b331bf348c3e8c17</td>\n",
       "      <td>transaction</td>\n",
       "      <td>714</td>\n",
       "      <td>1.59</td>\n",
       "      <td>NaN</td>\n",
       "      <td>tran</td>\n",
       "      <td>13</td>\n",
       "    </tr>\n",
       "    <tr>\n",
       "      <th>306530</th>\n",
       "      <td>68213b08d99a4ae1b0dcb72aebd9aa35</td>\n",
       "      <td>transaction</td>\n",
       "      <td>714</td>\n",
       "      <td>9.53</td>\n",
       "      <td>NaN</td>\n",
       "      <td>tran</td>\n",
       "      <td>1</td>\n",
       "    </tr>\n",
       "    <tr>\n",
       "      <th>306531</th>\n",
       "      <td>a00058cf10334a308c68e7631c529907</td>\n",
       "      <td>transaction</td>\n",
       "      <td>714</td>\n",
       "      <td>3.61</td>\n",
       "      <td>NaN</td>\n",
       "      <td>tran</td>\n",
       "      <td>19</td>\n",
       "    </tr>\n",
       "    <tr>\n",
       "      <th>306532</th>\n",
       "      <td>76ddbd6576844afe811f1a3c0fbb5bec</td>\n",
       "      <td>transaction</td>\n",
       "      <td>714</td>\n",
       "      <td>3.53</td>\n",
       "      <td>NaN</td>\n",
       "      <td>tran</td>\n",
       "      <td>12</td>\n",
       "    </tr>\n",
       "    <tr>\n",
       "      <th>306533</th>\n",
       "      <td>c02b10e8752c4d8e9b73f918558531f7</td>\n",
       "      <td>transaction</td>\n",
       "      <td>714</td>\n",
       "      <td>4.05</td>\n",
       "      <td>NaN</td>\n",
       "      <td>tran</td>\n",
       "      <td>7</td>\n",
       "    </tr>\n",
       "  </tbody>\n",
       "</table>\n",
       "<p>306534 rows × 7 columns</p>\n",
       "</div>"
      ],
      "text/plain": [
       "                                  person        event  time  amount  reward  \\\n",
       "0       78afa995795e4d85b5d9ceeca43f5fef     received     0     NaN     NaN   \n",
       "1       a03223e636434f42ac4c3df47e8bac43     received     0     NaN     NaN   \n",
       "2       e2127556f4f64592b11af22de27a7932     received     0     NaN     NaN   \n",
       "3       8ec6ce2a7e7949b1bf142def7d0e0586     received     0     NaN     NaN   \n",
       "4       68617ca6246f4fbc85e91a2a49552598     received     0     NaN     NaN   \n",
       "...                                  ...          ...   ...     ...     ...   \n",
       "306529  b3a1272bc9904337b331bf348c3e8c17  transaction   714    1.59     NaN   \n",
       "306530  68213b08d99a4ae1b0dcb72aebd9aa35  transaction   714    9.53     NaN   \n",
       "306531  a00058cf10334a308c68e7631c529907  transaction   714    3.61     NaN   \n",
       "306532  76ddbd6576844afe811f1a3c0fbb5bec  transaction   714    3.53     NaN   \n",
       "306533  c02b10e8752c4d8e9b73f918558531f7  transaction   714    4.05     NaN   \n",
       "\n",
       "       ofr_id_short  tag  \n",
       "0             ofr_D    0  \n",
       "1             ofr_E    0  \n",
       "2             ofr_J    0  \n",
       "3             ofr_G    0  \n",
       "4             ofr_B    0  \n",
       "...             ...  ...  \n",
       "306529         tran   13  \n",
       "306530         tran    1  \n",
       "306531         tran   19  \n",
       "306532         tran   12  \n",
       "306533         tran    7  \n",
       "\n",
       "[306534 rows x 7 columns]"
      ]
     },
     "execution_count": 27,
     "metadata": {},
     "output_type": "execute_result"
    }
   ],
   "source": [
    "transcript_b"
   ]
  },
  {
   "cell_type": "code",
   "execution_count": 28,
   "metadata": {},
   "outputs": [
    {
     "name": "stdout",
     "output_type": "stream",
     "text": [
      "<class 'pandas.core.frame.DataFrame'>\n",
      "RangeIndex: 167581 entries, 0 to 167580\n",
      "Data columns (total 7 columns):\n",
      " #   Column        Non-Null Count   Dtype  \n",
      "---  ------        --------------   -----  \n",
      " 0   person        167581 non-null  object \n",
      " 1   event         167581 non-null  object \n",
      " 2   time          167581 non-null  int64  \n",
      " 3   reward        33579 non-null   float64\n",
      " 4   ofr_id_short  167581 non-null  object \n",
      " 5   tag           167581 non-null  int64  \n",
      " 6   time_diff     120979 non-null  float64\n",
      "dtypes: float64(2), int64(2), object(3)\n",
      "memory usage: 8.9+ MB\n"
     ]
    }
   ],
   "source": [
    "events = pd.read_csv('bronze/events.csv')\n",
    "events.info()"
   ]
  },
  {
   "cell_type": "code",
   "execution_count": 29,
   "metadata": {},
   "outputs": [
    {
     "name": "stdout",
     "output_type": "stream",
     "text": [
      "<class 'pandas.core.frame.DataFrame'>\n",
      "RangeIndex: 138953 entries, 0 to 138952\n",
      "Data columns (total 6 columns):\n",
      " #   Column     Non-Null Count   Dtype  \n",
      "---  ------     --------------   -----  \n",
      " 0   person     138953 non-null  object \n",
      " 1   event      138953 non-null  object \n",
      " 2   time       138953 non-null  int64  \n",
      " 3   amount     138953 non-null  float64\n",
      " 4   tag        138953 non-null  int64  \n",
      " 5   time_diff  122375 non-null  float64\n",
      "dtypes: float64(2), int64(2), object(2)\n",
      "memory usage: 6.4+ MB\n"
     ]
    }
   ],
   "source": [
    "transactions = pd.read_csv('bronze/transactions.csv')\n",
    "transactions.info()"
   ]
  },
  {
   "cell_type": "code",
   "execution_count": 30,
   "metadata": {},
   "outputs": [
    {
     "name": "stdout",
     "output_type": "stream",
     "text": [
      "<class 'pandas.core.frame.DataFrame'>\n",
      "RangeIndex: 16994 entries, 0 to 16993\n",
      "Data columns (total 6 columns):\n",
      " #   Column                  Non-Null Count  Dtype \n",
      "---  ------                  --------------  ----- \n",
      " 0   person                  16994 non-null  object\n",
      " 1   ofr_id_short_completed  16994 non-null  object\n",
      " 2   ofr_id_short_received   16994 non-null  object\n",
      " 3   ofr_id_short_viewed     16994 non-null  object\n",
      " 4   first_completed         16994 non-null  object\n",
      " 5   last_completed          16994 non-null  object\n",
      "dtypes: object(6)\n",
      "memory usage: 796.7+ KB\n"
     ]
    }
   ],
   "source": [
    "sorted_offers = pd.read_csv('silver/sorted_offers.csv')\n",
    "sorted_offers.info()"
   ]
  },
  {
   "cell_type": "code",
   "execution_count": 31,
   "metadata": {},
   "outputs": [
    {
     "name": "stdout",
     "output_type": "stream",
     "text": [
      "<class 'pandas.core.frame.DataFrame'>\n",
      "RangeIndex: 10 entries, 0 to 9\n",
      "Data columns (total 14 columns):\n",
      " #   Column                  Non-Null Count  Dtype  \n",
      "---  ------                  --------------  -----  \n",
      " 0   ofr_id_short            10 non-null     object \n",
      " 1   itm_cnt_completed       10 non-null     float64\n",
      " 2   itm_cnt_viewed          10 non-null     float64\n",
      " 3   itm_mean_t_completed    10 non-null     float64\n",
      " 4   itm_mean_t_viewed       10 non-null     float64\n",
      " 5   itm_dif_mean_completed  10 non-null     float64\n",
      " 6   itm_dif_mean_viewed     10 non-null     float64\n",
      " 7   itm_dif_max_completed   10 non-null     float64\n",
      " 8   itm_dif_max_viewed      10 non-null     float64\n",
      " 9   itm_dif_std_completed   10 non-null     float64\n",
      " 10  itm_dif_std_viewed      10 non-null     float64\n",
      " 11  itm_completion_rate     10 non-null     float64\n",
      " 12  itm_viewed_rate         10 non-null     float64\n",
      " 13  itm_RSD_copleted        10 non-null     float64\n",
      "dtypes: float64(13), object(1)\n",
      "memory usage: 1.2+ KB\n"
     ]
    }
   ],
   "source": [
    "item_event_time = pd.read_csv('silver/item_event_time.csv')\n",
    "item_event_time.info()"
   ]
  },
  {
   "cell_type": "code",
   "execution_count": 32,
   "metadata": {},
   "outputs": [
    {
     "name": "stdout",
     "output_type": "stream",
     "text": [
      "<class 'pandas.core.frame.DataFrame'>\n",
      "RangeIndex: 16994 entries, 0 to 16993\n",
      "Data columns (total 14 columns):\n",
      " #   Column                 Non-Null Count  Dtype  \n",
      "---  ------                 --------------  -----  \n",
      " 0   person                 16994 non-null  object \n",
      " 1   us_cnt_completed       16994 non-null  float64\n",
      " 2   us_cnt_viewed          16994 non-null  float64\n",
      " 3   us_mean_t_completed    16994 non-null  float64\n",
      " 4   us_mean_t_viewed       16994 non-null  float64\n",
      " 5   us_dif_mean_completed  16994 non-null  float64\n",
      " 6   us_dif_mean_viewed     16994 non-null  float64\n",
      " 7   us_dif_max_completed   16994 non-null  float64\n",
      " 8   us_dif_max_viewed      16994 non-null  float64\n",
      " 9   us_dif_std_completed   16994 non-null  float64\n",
      " 10  us_dif_std_viewed      16994 non-null  float64\n",
      " 11  us_completion_rate     16994 non-null  float64\n",
      " 12  us_viewed_rate         16994 non-null  float64\n",
      " 13  us_RSD_copleted        16994 non-null  float64\n",
      "dtypes: float64(13), object(1)\n",
      "memory usage: 1.8+ MB\n"
     ]
    }
   ],
   "source": [
    "user_event_time = pd.read_csv('silver/user_event_time.csv')\n",
    "user_event_time.info()"
   ]
  },
  {
   "cell_type": "code",
   "execution_count": 35,
   "metadata": {},
   "outputs": [
    {
     "name": "stdout",
     "output_type": "stream",
     "text": [
      "<class 'pandas.core.frame.DataFrame'>\n",
      "RangeIndex: 63288 entries, 0 to 63287\n",
      "Data columns (total 22 columns):\n",
      " #   Column                     Non-Null Count  Dtype  \n",
      "---  ------                     --------------  -----  \n",
      " 0   person                     63288 non-null  object \n",
      " 1   ofr_id_short               63288 non-null  object \n",
      " 2   us_ofr_cnt_completed       63288 non-null  float64\n",
      " 3   us_ofr_cnt_viewed          63288 non-null  float64\n",
      " 4   us_ofr_max_t_completed     63288 non-null  float64\n",
      " 5   us_ofr_max_t_received      63288 non-null  float64\n",
      " 6   us_ofr_max_t_viewed        63288 non-null  float64\n",
      " 7   us_ofr_dif_mean_completed  63288 non-null  float64\n",
      " 8   us_ofr_dif_mean_received   63288 non-null  float64\n",
      " 9   us_ofr_dif_mean_viewed     63288 non-null  float64\n",
      " 10  us_ofr_dif_max_completed   63288 non-null  float64\n",
      " 11  us_ofr_dif_max_received    63288 non-null  float64\n",
      " 12  us_ofr_dif_max_viewed      63288 non-null  float64\n",
      " 13  us_ofr_dif_std_completed   63288 non-null  float64\n",
      " 14  us_ofr_dif_std_received    63288 non-null  float64\n",
      " 15  us_ofr_dif_std_viewed      63288 non-null  float64\n",
      " 16  stage                      63288 non-null  float64\n",
      " 17  curiosity_vr               63288 non-null  float64\n",
      " 18  eagerness_cv               63288 non-null  float64\n",
      " 19  overall_cr                 63288 non-null  float64\n",
      " 20  influence                  63288 non-null  int64  \n",
      " 21  ext_influence              63288 non-null  int64  \n",
      "dtypes: float64(18), int64(2), object(2)\n",
      "memory usage: 10.6+ MB\n"
     ]
    }
   ],
   "source": [
    "user_item_event = pd.read_csv('silver/user_item_event.csv')\n",
    "user_item_event.info()"
   ]
  },
  {
   "cell_type": "code",
   "execution_count": null,
   "metadata": {},
   "outputs": [
    {
     "name": "stdout",
     "output_type": "stream",
     "text": [
      "<class 'pandas.core.frame.DataFrame'>\n",
      "RangeIndex: 76277 entries, 0 to 76276\n",
      "Data columns (total 11 columns):\n",
      " #   Column         Non-Null Count  Dtype  \n",
      "---  ------         --------------  -----  \n",
      " 0   person         76277 non-null  object \n",
      " 1   ofr_id_short   76277 non-null  object \n",
      " 2   tag            76277 non-null  int64  \n",
      " 3   cnt_completed  76277 non-null  float64\n",
      " 4   cnt_viewed     76277 non-null  float64\n",
      " 5   stage          76277 non-null  float64\n",
      " 6   curiosity_vr   76277 non-null  float64\n",
      " 7   eagerness_cv   76277 non-null  float64\n",
      " 8   overall_cr     76277 non-null  float64\n",
      " 9   influence      76277 non-null  int64  \n",
      " 10  ext_influence  76277 non-null  int64  \n",
      "dtypes: float64(6), int64(3), object(2)\n",
      "memory usage: 6.4+ MB\n"
     ]
    }
   ],
   "source": [
    "user_item_u_event = pd.read_csv('silver/user_item_u_event.csv')\n",
    "user_item_u_event.info()"
   ]
  },
  {
   "cell_type": "code",
   "execution_count": null,
   "metadata": {},
   "outputs": [
    {
     "name": "stdout",
     "output_type": "stream",
     "text": [
      "<class 'pandas.core.frame.DataFrame'>\n",
      "RangeIndex: 16578 entries, 0 to 16577\n",
      "Data columns (total 26 columns):\n",
      " #   Column                  Non-Null Count  Dtype  \n",
      "---  ------                  --------------  -----  \n",
      " 0   person                  16578 non-null  object \n",
      " 1   cnt_tran                16578 non-null  int64  \n",
      " 2   sum_am_tran             16578 non-null  float64\n",
      " 3   mean_am_tran            16578 non-null  float64\n",
      " 4   median_am_tran          16578 non-null  float64\n",
      " 5   min_am_tran             16578 non-null  float64\n",
      " 6   max_am_tran             16578 non-null  float64\n",
      " 7   small_tran_count        16578 non-null  int64  \n",
      " 8   big_tran_count          16578 non-null  int64  \n",
      " 9   range_amount_tran       16578 non-null  float64\n",
      " 10  mean_t_tran             16578 non-null  float64\n",
      " 11  median_t_tran           16578 non-null  float64\n",
      " 12  min_t_tran              16578 non-null  int64  \n",
      " 13  max_t_tran              16578 non-null  int64  \n",
      " 14  dif_t_tran_mean         16578 non-null  float64\n",
      " 15  dif_t_tran_min          16578 non-null  float64\n",
      " 16  dif_t_tran_max          16578 non-null  float64\n",
      " 17  std_diff_t_tran         16578 non-null  float64\n",
      " 18  range_t_tran            16578 non-null  int64  \n",
      " 19  freq_tran               16578 non-null  float64\n",
      " 20  recency_tran            16578 non-null  float64\n",
      " 21  max_to_sum_am_tran      16578 non-null  float64\n",
      " 22  median_to_mean_am_tran  16578 non-null  float64\n",
      " 23  weekly_tran_mean        16578 non-null  float64\n",
      " 24  weekly_tran_min         16578 non-null  int64  \n",
      " 25  weekly_tran_max         16578 non-null  int64  \n",
      "dtypes: float64(17), int64(8), object(1)\n",
      "memory usage: 3.3+ MB\n"
     ]
    }
   ],
   "source": [
    "user_transactions = pd.read_csv('silver/user_transactions.csv')\n",
    "user_transactions.info()"
   ]
  },
  {
   "cell_type": "code",
   "execution_count": null,
   "metadata": {},
   "outputs": [
    {
     "name": "stdout",
     "output_type": "stream",
     "text": [
      "<class 'pandas.core.frame.DataFrame'>\n",
      "RangeIndex: 16578 entries, 0 to 16577\n",
      "Data columns (total 24 columns):\n",
      " #   Column     Non-Null Count  Dtype  \n",
      "---  ------     --------------  -----  \n",
      " 0   person     16578 non-null  object \n",
      " 1   period_1   16578 non-null  float64\n",
      " 2   period_2   16578 non-null  float64\n",
      " 3   period_3   16578 non-null  float64\n",
      " 4   period_4   16578 non-null  float64\n",
      " 5   period_5   16578 non-null  float64\n",
      " 6   period_6   16578 non-null  float64\n",
      " 7   period_7   16578 non-null  float64\n",
      " 8   period_8   16578 non-null  float64\n",
      " 9   period_9   16578 non-null  float64\n",
      " 10  period_10  16578 non-null  float64\n",
      " 11  period_11  16578 non-null  float64\n",
      " 12  period_12  16578 non-null  float64\n",
      " 13  period_13  16578 non-null  float64\n",
      " 14  period_14  16578 non-null  float64\n",
      " 15  period_15  16578 non-null  float64\n",
      " 16  period_16  16578 non-null  float64\n",
      " 17  period_17  16578 non-null  float64\n",
      " 18  period_18  16578 non-null  float64\n",
      " 19  period_19  16578 non-null  float64\n",
      " 20  period_20  16578 non-null  float64\n",
      " 21  recency    16578 non-null  int64  \n",
      " 22  churn      16578 non-null  int64  \n",
      " 23  churn2     16578 non-null  int64  \n",
      "dtypes: float64(20), int64(3), object(1)\n",
      "memory usage: 3.0+ MB\n"
     ]
    }
   ],
   "source": [
    "user_transactions_time = pd.read_csv('silver/user_transactions_time.csv')\n",
    "user_transactions_time.info()"
   ]
  },
  {
   "cell_type": "code",
   "execution_count": null,
   "metadata": {},
   "outputs": [
    {
     "name": "stdout",
     "output_type": "stream",
     "text": [
      "<class 'pandas.core.frame.DataFrame'>\n",
      "RangeIndex: 76277 entries, 0 to 76276\n",
      "Data columns (total 78 columns):\n",
      " #   Column                  Non-Null Count  Dtype  \n",
      "---  ------                  --------------  -----  \n",
      " 0   gender                  66501 non-null  object \n",
      " 1   age                     76277 non-null  int64  \n",
      " 2   id                      76277 non-null  object \n",
      " 3   became_member_on        76277 non-null  object \n",
      " 4   income                  66501 non-null  float64\n",
      " 5   bec_memb_year_month     76277 non-null  object \n",
      " 6   age_group               76277 non-null  object \n",
      " 7   ofr_id_short            76277 non-null  object \n",
      " 8   tag                     76277 non-null  int64  \n",
      " 9   cnt_completed           76277 non-null  float64\n",
      " 10  cnt_viewed              76277 non-null  float64\n",
      " 11  stage                   76277 non-null  float64\n",
      " 12  curiosity_vr            76277 non-null  float64\n",
      " 13  eagerness_cv            76277 non-null  float64\n",
      " 14  overall_cr              76277 non-null  float64\n",
      " 15  influence               76277 non-null  int64  \n",
      " 16  ext_influence           76277 non-null  int64  \n",
      " 17  us_cnt_completed        76277 non-null  float64\n",
      " 18  us_cnt_viewed           76277 non-null  float64\n",
      " 19  us_mean_t_completed     76277 non-null  float64\n",
      " 20  us_mean_t_viewed        76277 non-null  float64\n",
      " 21  us_dif_mean_completed   76277 non-null  float64\n",
      " 22  us_dif_mean_viewed      76277 non-null  float64\n",
      " 23  us_dif_max_completed    76277 non-null  float64\n",
      " 24  us_dif_max_viewed       76277 non-null  float64\n",
      " 25  us_dif_std_completed    76277 non-null  float64\n",
      " 26  us_dif_std_viewed       76277 non-null  float64\n",
      " 27  us_completion_rate      76277 non-null  float64\n",
      " 28  us_viewed_rate          76277 non-null  float64\n",
      " 29  us_RSD_copleted         76277 non-null  float64\n",
      " 30  cnt_tran                74396 non-null  float64\n",
      " 31  sum_am_tran             74396 non-null  float64\n",
      " 32  mean_am_tran            74396 non-null  float64\n",
      " 33  median_am_tran          74396 non-null  float64\n",
      " 34  min_am_tran             74396 non-null  float64\n",
      " 35  max_am_tran             74396 non-null  float64\n",
      " 36  small_tran_count        74396 non-null  float64\n",
      " 37  big_tran_count          74396 non-null  float64\n",
      " 38  range_amount_tran       74396 non-null  float64\n",
      " 39  mean_t_tran             74396 non-null  float64\n",
      " 40  median_t_tran           74396 non-null  float64\n",
      " 41  min_t_tran              74396 non-null  float64\n",
      " 42  max_t_tran              74396 non-null  float64\n",
      " 43  dif_t_tran_mean         74396 non-null  float64\n",
      " 44  dif_t_tran_min          74396 non-null  float64\n",
      " 45  dif_t_tran_max          74396 non-null  float64\n",
      " 46  std_diff_t_tran         74396 non-null  float64\n",
      " 47  range_t_tran            74396 non-null  float64\n",
      " 48  freq_tran               74396 non-null  float64\n",
      " 49  recency_tran            74396 non-null  float64\n",
      " 50  max_to_sum_am_tran      74396 non-null  float64\n",
      " 51  median_to_mean_am_tran  74396 non-null  float64\n",
      " 52  weekly_tran_mean        74396 non-null  float64\n",
      " 53  weekly_tran_min         74396 non-null  float64\n",
      " 54  weekly_tran_max         74396 non-null  float64\n",
      " 55  period_1                74396 non-null  float64\n",
      " 56  period_2                74396 non-null  float64\n",
      " 57  period_3                74396 non-null  float64\n",
      " 58  period_4                74396 non-null  float64\n",
      " 59  period_5                74396 non-null  float64\n",
      " 60  period_6                74396 non-null  float64\n",
      " 61  period_7                74396 non-null  float64\n",
      " 62  period_8                74396 non-null  float64\n",
      " 63  period_9                74396 non-null  float64\n",
      " 64  period_10               74396 non-null  float64\n",
      " 65  period_11               74396 non-null  float64\n",
      " 66  period_12               74396 non-null  float64\n",
      " 67  period_13               74396 non-null  float64\n",
      " 68  period_14               74396 non-null  float64\n",
      " 69  period_15               74396 non-null  float64\n",
      " 70  period_16               74396 non-null  float64\n",
      " 71  period_17               74396 non-null  float64\n",
      " 72  period_18               74396 non-null  float64\n",
      " 73  period_19               74396 non-null  float64\n",
      " 74  period_20               74396 non-null  float64\n",
      " 75  recency                 74396 non-null  float64\n",
      " 76  churn                   74396 non-null  float64\n",
      " 77  churn2                  74396 non-null  float64\n",
      "dtypes: float64(68), int64(4), object(6)\n",
      "memory usage: 45.4+ MB\n"
     ]
    }
   ],
   "source": [
    "analytical_table = pd.read_csv('gold/analytical_table.csv')\n",
    "analytical_table.info()"
   ]
  }
 ],
 "metadata": {
  "kernelspec": {
   "display_name": ".env",
   "language": "python",
   "name": "python3"
  },
  "language_info": {
   "codemirror_mode": {
    "name": "ipython",
    "version": 3
   },
   "file_extension": ".py",
   "mimetype": "text/x-python",
   "name": "python",
   "nbconvert_exporter": "python",
   "pygments_lexer": "ipython3",
   "version": "3.13.0"
  }
 },
 "nbformat": 4,
 "nbformat_minor": 2
}
