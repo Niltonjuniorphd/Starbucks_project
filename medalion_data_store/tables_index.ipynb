{
 "cells": [
  {
   "cell_type": "markdown",
   "metadata": {},
   "source": [
    "# This notebook contais descriptions for the tables in the data store"
   ]
  },
  {
   "cell_type": "code",
   "execution_count": 1,
   "metadata": {},
   "outputs": [],
   "source": [
    "import pandas as pd"
   ]
  },
  {
   "cell_type": "code",
   "execution_count": 5,
   "metadata": {},
   "outputs": [
    {
     "name": "stdout",
     "output_type": "stream",
     "text": [
      "<class 'pandas.core.frame.DataFrame'>\n",
      "RangeIndex: 10 entries, 0 to 9\n",
      "Data columns (total 7 columns):\n",
      " #   Column        Non-Null Count  Dtype \n",
      "---  ------        --------------  ----- \n",
      " 0   reward        10 non-null     int64 \n",
      " 1   channels      10 non-null     object\n",
      " 2   difficulty    10 non-null     int64 \n",
      " 3   duration      10 non-null     int64 \n",
      " 4   offer_type    10 non-null     object\n",
      " 5   id            10 non-null     object\n",
      " 6   ofr_id_short  10 non-null     object\n",
      "dtypes: int64(3), object(4)\n",
      "memory usage: 692.0+ bytes\n"
     ]
    }
   ],
   "source": [
    "portfolio = pd.read_csv('bronze/portfolio.csv')\n",
    "portfolio.info()"
   ]
  },
  {
   "cell_type": "code",
   "execution_count": 6,
   "metadata": {},
   "outputs": [
    {
     "name": "stdout",
     "output_type": "stream",
     "text": [
      "<class 'pandas.core.frame.DataFrame'>\n",
      "RangeIndex: 17000 entries, 0 to 16999\n",
      "Data columns (total 8 columns):\n",
      " #   Column               Non-Null Count  Dtype  \n",
      "---  ------               --------------  -----  \n",
      " 0   Unnamed: 0           17000 non-null  int64  \n",
      " 1   gender               14825 non-null  object \n",
      " 2   age                  17000 non-null  int64  \n",
      " 3   id                   17000 non-null  object \n",
      " 4   became_member_on     17000 non-null  object \n",
      " 5   income               14825 non-null  float64\n",
      " 6   bec_memb_year_month  17000 non-null  object \n",
      " 7   age_group            17000 non-null  object \n",
      "dtypes: float64(1), int64(2), object(5)\n",
      "memory usage: 1.0+ MB\n"
     ]
    }
   ],
   "source": [
    "profile = pd.read_csv('bronze/profile.csv')\n",
    "profile.info()"
   ]
  },
  {
   "cell_type": "code",
   "execution_count": 33,
   "metadata": {},
   "outputs": [
    {
     "data": {
      "text/html": [
       "<div>\n",
       "<style scoped>\n",
       "    .dataframe tbody tr th:only-of-type {\n",
       "        vertical-align: middle;\n",
       "    }\n",
       "\n",
       "    .dataframe tbody tr th {\n",
       "        vertical-align: top;\n",
       "    }\n",
       "\n",
       "    .dataframe thead th {\n",
       "        text-align: right;\n",
       "    }\n",
       "</style>\n",
       "<table border=\"1\" class=\"dataframe\">\n",
       "  <thead>\n",
       "    <tr style=\"text-align: right;\">\n",
       "      <th></th>\n",
       "      <th>Unnamed: 0</th>\n",
       "      <th>gender</th>\n",
       "      <th>age</th>\n",
       "      <th>id</th>\n",
       "      <th>became_member_on</th>\n",
       "      <th>income</th>\n",
       "      <th>bec_memb_year_month</th>\n",
       "      <th>age_group</th>\n",
       "    </tr>\n",
       "  </thead>\n",
       "  <tbody>\n",
       "    <tr>\n",
       "      <th>0</th>\n",
       "      <td>0</td>\n",
       "      <td>NaN</td>\n",
       "      <td>118</td>\n",
       "      <td>68be06ca386d4c31939f3a4f0e3dd783</td>\n",
       "      <td>2017-02-12</td>\n",
       "      <td>NaN</td>\n",
       "      <td>2017-02</td>\n",
       "      <td>Senior</td>\n",
       "    </tr>\n",
       "    <tr>\n",
       "      <th>1</th>\n",
       "      <td>1</td>\n",
       "      <td>F</td>\n",
       "      <td>55</td>\n",
       "      <td>0610b486422d4921ae7d2bf64640c50b</td>\n",
       "      <td>2017-07-15</td>\n",
       "      <td>112000.0</td>\n",
       "      <td>2017-07</td>\n",
       "      <td>Middle</td>\n",
       "    </tr>\n",
       "    <tr>\n",
       "      <th>2</th>\n",
       "      <td>2</td>\n",
       "      <td>NaN</td>\n",
       "      <td>118</td>\n",
       "      <td>38fe809add3b4fcf9315a9694bb96ff5</td>\n",
       "      <td>2018-07-12</td>\n",
       "      <td>NaN</td>\n",
       "      <td>2018-07</td>\n",
       "      <td>Senior</td>\n",
       "    </tr>\n",
       "    <tr>\n",
       "      <th>3</th>\n",
       "      <td>3</td>\n",
       "      <td>F</td>\n",
       "      <td>75</td>\n",
       "      <td>78afa995795e4d85b5d9ceeca43f5fef</td>\n",
       "      <td>2017-05-09</td>\n",
       "      <td>100000.0</td>\n",
       "      <td>2017-05</td>\n",
       "      <td>Senior</td>\n",
       "    </tr>\n",
       "    <tr>\n",
       "      <th>4</th>\n",
       "      <td>4</td>\n",
       "      <td>NaN</td>\n",
       "      <td>118</td>\n",
       "      <td>a03223e636434f42ac4c3df47e8bac43</td>\n",
       "      <td>2017-08-04</td>\n",
       "      <td>NaN</td>\n",
       "      <td>2017-08</td>\n",
       "      <td>Senior</td>\n",
       "    </tr>\n",
       "    <tr>\n",
       "      <th>...</th>\n",
       "      <td>...</td>\n",
       "      <td>...</td>\n",
       "      <td>...</td>\n",
       "      <td>...</td>\n",
       "      <td>...</td>\n",
       "      <td>...</td>\n",
       "      <td>...</td>\n",
       "      <td>...</td>\n",
       "    </tr>\n",
       "    <tr>\n",
       "      <th>16995</th>\n",
       "      <td>16995</td>\n",
       "      <td>F</td>\n",
       "      <td>45</td>\n",
       "      <td>6d5f3a774f3d4714ab0c092238f3a1d7</td>\n",
       "      <td>2018-06-04</td>\n",
       "      <td>54000.0</td>\n",
       "      <td>2018-06</td>\n",
       "      <td>Middle</td>\n",
       "    </tr>\n",
       "    <tr>\n",
       "      <th>16996</th>\n",
       "      <td>16996</td>\n",
       "      <td>M</td>\n",
       "      <td>61</td>\n",
       "      <td>2cb4f97358b841b9a9773a7aa05a9d77</td>\n",
       "      <td>2018-07-13</td>\n",
       "      <td>72000.0</td>\n",
       "      <td>2018-07</td>\n",
       "      <td>Senior</td>\n",
       "    </tr>\n",
       "    <tr>\n",
       "      <th>16997</th>\n",
       "      <td>16997</td>\n",
       "      <td>M</td>\n",
       "      <td>49</td>\n",
       "      <td>01d26f638c274aa0b965d24cefe3183f</td>\n",
       "      <td>2017-01-26</td>\n",
       "      <td>73000.0</td>\n",
       "      <td>2017-01</td>\n",
       "      <td>Middle</td>\n",
       "    </tr>\n",
       "    <tr>\n",
       "      <th>16998</th>\n",
       "      <td>16998</td>\n",
       "      <td>F</td>\n",
       "      <td>83</td>\n",
       "      <td>9dc1421481194dcd9400aec7c9ae6366</td>\n",
       "      <td>2016-03-07</td>\n",
       "      <td>50000.0</td>\n",
       "      <td>2016-03</td>\n",
       "      <td>Senior</td>\n",
       "    </tr>\n",
       "    <tr>\n",
       "      <th>16999</th>\n",
       "      <td>16999</td>\n",
       "      <td>F</td>\n",
       "      <td>62</td>\n",
       "      <td>e4052622e5ba45a8b96b59aba68cf068</td>\n",
       "      <td>2017-07-22</td>\n",
       "      <td>82000.0</td>\n",
       "      <td>2017-07</td>\n",
       "      <td>Senior</td>\n",
       "    </tr>\n",
       "  </tbody>\n",
       "</table>\n",
       "<p>17000 rows × 8 columns</p>\n",
       "</div>"
      ],
      "text/plain": [
       "       Unnamed: 0 gender  age                                id  \\\n",
       "0               0    NaN  118  68be06ca386d4c31939f3a4f0e3dd783   \n",
       "1               1      F   55  0610b486422d4921ae7d2bf64640c50b   \n",
       "2               2    NaN  118  38fe809add3b4fcf9315a9694bb96ff5   \n",
       "3               3      F   75  78afa995795e4d85b5d9ceeca43f5fef   \n",
       "4               4    NaN  118  a03223e636434f42ac4c3df47e8bac43   \n",
       "...           ...    ...  ...                               ...   \n",
       "16995       16995      F   45  6d5f3a774f3d4714ab0c092238f3a1d7   \n",
       "16996       16996      M   61  2cb4f97358b841b9a9773a7aa05a9d77   \n",
       "16997       16997      M   49  01d26f638c274aa0b965d24cefe3183f   \n",
       "16998       16998      F   83  9dc1421481194dcd9400aec7c9ae6366   \n",
       "16999       16999      F   62  e4052622e5ba45a8b96b59aba68cf068   \n",
       "\n",
       "      became_member_on    income bec_memb_year_month age_group  \n",
       "0           2017-02-12       NaN             2017-02    Senior  \n",
       "1           2017-07-15  112000.0             2017-07    Middle  \n",
       "2           2018-07-12       NaN             2018-07    Senior  \n",
       "3           2017-05-09  100000.0             2017-05    Senior  \n",
       "4           2017-08-04       NaN             2017-08    Senior  \n",
       "...                ...       ...                 ...       ...  \n",
       "16995       2018-06-04   54000.0             2018-06    Middle  \n",
       "16996       2018-07-13   72000.0             2018-07    Senior  \n",
       "16997       2017-01-26   73000.0             2017-01    Middle  \n",
       "16998       2016-03-07   50000.0             2016-03    Senior  \n",
       "16999       2017-07-22   82000.0             2017-07    Senior  \n",
       "\n",
       "[17000 rows x 8 columns]"
      ]
     },
     "execution_count": 33,
     "metadata": {},
     "output_type": "execute_result"
    }
   ],
   "source": [
    "profile"
   ]
  },
  {
   "cell_type": "code",
   "execution_count": 13,
   "metadata": {},
   "outputs": [
    {
     "name": "stdout",
     "output_type": "stream",
     "text": [
      "<class 'pandas.core.frame.DataFrame'>\n",
      "RangeIndex: 306534 entries, 0 to 306533\n",
      "Data columns (total 7 columns):\n",
      " #   Column        Non-Null Count   Dtype  \n",
      "---  ------        --------------   -----  \n",
      " 0   person        306534 non-null  object \n",
      " 1   event         306534 non-null  object \n",
      " 2   time          306534 non-null  int64  \n",
      " 3   amount        138953 non-null  float64\n",
      " 4   reward        33579 non-null   float64\n",
      " 5   ofr_id_short  306534 non-null  object \n",
      " 6   tag           306534 non-null  int64  \n",
      "dtypes: float64(2), int64(2), object(3)\n",
      "memory usage: 16.4+ MB\n"
     ]
    }
   ],
   "source": [
    "transcript_b = pd.read_csv('bronze/transcript_b.csv')\n",
    "transcript_b.info()"
   ]
  },
  {
   "cell_type": "code",
   "execution_count": 14,
   "metadata": {},
   "outputs": [
    {
     "name": "stdout",
     "output_type": "stream",
     "text": [
      "<class 'pandas.core.frame.DataFrame'>\n",
      "RangeIndex: 167581 entries, 0 to 167580\n",
      "Data columns (total 6 columns):\n",
      " #   Column        Non-Null Count   Dtype  \n",
      "---  ------        --------------   -----  \n",
      " 0   person        167581 non-null  object \n",
      " 1   event         167581 non-null  object \n",
      " 2   time          167581 non-null  int64  \n",
      " 3   reward        33579 non-null   float64\n",
      " 4   ofr_id_short  167581 non-null  object \n",
      " 5   tag           167581 non-null  int64  \n",
      "dtypes: float64(1), int64(2), object(3)\n",
      "memory usage: 7.7+ MB\n"
     ]
    }
   ],
   "source": [
    "events = pd.read_csv('bronze/events.csv')\n",
    "events.info()"
   ]
  },
  {
   "cell_type": "code",
   "execution_count": 15,
   "metadata": {},
   "outputs": [
    {
     "name": "stdout",
     "output_type": "stream",
     "text": [
      "<class 'pandas.core.frame.DataFrame'>\n",
      "RangeIndex: 138953 entries, 0 to 138952\n",
      "Data columns (total 5 columns):\n",
      " #   Column  Non-Null Count   Dtype  \n",
      "---  ------  --------------   -----  \n",
      " 0   person  138953 non-null  object \n",
      " 1   event   138953 non-null  object \n",
      " 2   time    138953 non-null  int64  \n",
      " 3   amount  138953 non-null  float64\n",
      " 4   tag     138953 non-null  int64  \n",
      "dtypes: float64(1), int64(2), object(2)\n",
      "memory usage: 5.3+ MB\n"
     ]
    }
   ],
   "source": [
    "transactions = pd.read_csv('bronze/transactions.csv')\n",
    "transactions.info()"
   ]
  },
  {
   "cell_type": "code",
   "execution_count": 17,
   "metadata": {},
   "outputs": [
    {
     "name": "stdout",
     "output_type": "stream",
     "text": [
      "<class 'pandas.core.frame.DataFrame'>\n",
      "RangeIndex: 10 entries, 0 to 9\n",
      "Data columns (total 6 columns):\n",
      " #   Column           Non-Null Count  Dtype  \n",
      "---  ------           --------------  -----  \n",
      " 0   ofr_id_short     10 non-null     object \n",
      " 1   event_completed  8 non-null      float64\n",
      " 2   event_received   10 non-null     float64\n",
      " 3   event_viewed     10 non-null     float64\n",
      " 4   completion_rate  8 non-null      float64\n",
      " 5   viewed_rate      10 non-null     float64\n",
      "dtypes: float64(5), object(1)\n",
      "memory usage: 612.0+ bytes\n"
     ]
    }
   ],
   "source": [
    "offer_rank = pd.read_csv('gold/offer_rank.csv')\n",
    "offer_rank.info()"
   ]
  },
  {
   "cell_type": "code",
   "execution_count": 32,
   "metadata": {},
   "outputs": [
    {
     "name": "stdout",
     "output_type": "stream",
     "text": [
      "<class 'pandas.core.frame.DataFrame'>\n",
      "RangeIndex: 76277 entries, 0 to 76276\n",
      "Data columns (total 18 columns):\n",
      " #   Column               Non-Null Count  Dtype  \n",
      "---  ------               --------------  -----  \n",
      " 0   person               76277 non-null  object \n",
      " 1   ofr_id_short         76277 non-null  object \n",
      " 2   tag                  76277 non-null  int64  \n",
      " 3   reward_completed     33579 non-null  float64\n",
      " 4   cnt_completed        33579 non-null  float64\n",
      " 5   cnt_received         76277 non-null  float64\n",
      " 6   cnt_viewed           57725 non-null  float64\n",
      " 7   curiosity_vr         76277 non-null  float64\n",
      " 8   eagerness_cv         76277 non-null  float64\n",
      " 9   overall_cr           76277 non-null  float64\n",
      " 10  influence            76277 non-null  int64  \n",
      " 11  ext_influence        76277 non-null  int64  \n",
      " 12  gender               66501 non-null  object \n",
      " 13  age                  76277 non-null  int64  \n",
      " 14  became_member_on     76277 non-null  object \n",
      " 15  income               66501 non-null  float64\n",
      " 16  bec_memb_year_month  76277 non-null  object \n",
      " 17  age_group            76277 non-null  object \n",
      "dtypes: float64(8), int64(4), object(6)\n",
      "memory usage: 10.5+ MB\n"
     ]
    }
   ],
   "source": [
    "user_item_event = pd.read_csv('gold/user_item_event.csv')\n",
    "user_item_event.info()"
   ]
  },
  {
   "cell_type": "code",
   "execution_count": 23,
   "metadata": {},
   "outputs": [
    {
     "name": "stdout",
     "output_type": "stream",
     "text": [
      "<class 'pandas.core.frame.DataFrame'>\n",
      "RangeIndex: 17000 entries, 0 to 16999\n",
      "Data columns (total 37 columns):\n",
      " #   Column               Non-Null Count  Dtype  \n",
      "---  ------               --------------  -----  \n",
      " 0   gender               14825 non-null  object \n",
      " 1   age                  17000 non-null  int64  \n",
      " 2   id                   17000 non-null  object \n",
      " 3   became_member_on     17000 non-null  object \n",
      " 4   income               14825 non-null  float64\n",
      " 5   bec_memb_year_month  17000 non-null  object \n",
      " 6   age_group            17000 non-null  object \n",
      " 7   cnt_completed_ofr_G  16994 non-null  float64\n",
      " 8   cnt_completed_ofr_I  16994 non-null  float64\n",
      " 9   cnt_completed_ofr_J  16994 non-null  float64\n",
      " 10  cnt_received_ofr_C   16994 non-null  float64\n",
      " 11  cnt_received_ofr_G   16994 non-null  float64\n",
      " 12  cnt_received_ofr_H   16994 non-null  float64\n",
      " 13  cnt_received_ofr_I   16994 non-null  float64\n",
      " 14  cnt_received_ofr_J   16994 non-null  float64\n",
      " 15  cnt_viewed_ofr_C     16994 non-null  float64\n",
      " 16  cnt_viewed_ofr_G     16994 non-null  float64\n",
      " 17  cnt_viewed_ofr_H     16994 non-null  float64\n",
      " 18  cnt_viewed_ofr_I     16994 non-null  float64\n",
      " 19  cnt_completed_ofr_D  16994 non-null  float64\n",
      " 20  cnt_completed_ofr_E  16994 non-null  float64\n",
      " 21  cnt_completed_ofr_F  16994 non-null  float64\n",
      " 22  cnt_received_ofr_D   16994 non-null  float64\n",
      " 23  cnt_received_ofr_E   16994 non-null  float64\n",
      " 24  cnt_received_ofr_F   16994 non-null  float64\n",
      " 25  cnt_viewed_ofr_D     16994 non-null  float64\n",
      " 26  cnt_viewed_ofr_E     16994 non-null  float64\n",
      " 27  cnt_viewed_ofr_F     16994 non-null  float64\n",
      " 28  cnt_completed_ofr_B  16994 non-null  float64\n",
      " 29  cnt_received_ofr_A   16994 non-null  float64\n",
      " 30  cnt_received_ofr_B   16994 non-null  float64\n",
      " 31  cnt_viewed_ofr_B     16994 non-null  float64\n",
      " 32  cnt_completed_ofr_A  16994 non-null  float64\n",
      " 33  cnt_viewed_ofr_A     16994 non-null  float64\n",
      " 34  cnt_viewed_ofr_J     16994 non-null  float64\n",
      " 35  cnt_transaction      16572 non-null  float64\n",
      " 36  sum_transaction      16572 non-null  float64\n",
      "dtypes: float64(31), int64(1), object(5)\n",
      "memory usage: 4.8+ MB\n"
     ]
    }
   ],
   "source": [
    "user_item_transactions = pd.read_csv('gold/user_item_transactions.csv')\n",
    "user_item_transactions.info()"
   ]
  },
  {
   "cell_type": "code",
   "execution_count": 28,
   "metadata": {},
   "outputs": [
    {
     "name": "stdout",
     "output_type": "stream",
     "text": [
      "<class 'pandas.core.frame.DataFrame'>\n",
      "RangeIndex: 17000 entries, 0 to 16999\n",
      "Data columns (total 67 columns):\n",
      " #   Column                Non-Null Count  Dtype  \n",
      "---  ------                --------------  -----  \n",
      " 0   gender                14825 non-null  object \n",
      " 1   age                   17000 non-null  int64  \n",
      " 2   became_member_on      17000 non-null  object \n",
      " 3   income                14825 non-null  float64\n",
      " 4   bec_memb_year_month   17000 non-null  object \n",
      " 5   age_group             17000 non-null  object \n",
      " 6   person                17000 non-null  object \n",
      " 7   cnt_ofr_A             17000 non-null  float64\n",
      " 8   cnt_ofr_B             17000 non-null  float64\n",
      " 9   cnt_ofr_C             17000 non-null  float64\n",
      " 10  cnt_ofr_D             17000 non-null  float64\n",
      " 11  cnt_ofr_E             17000 non-null  float64\n",
      " 12  cnt_ofr_F             17000 non-null  float64\n",
      " 13  cnt_ofr_G             17000 non-null  float64\n",
      " 14  cnt_ofr_H             17000 non-null  float64\n",
      " 15  cnt_ofr_I             17000 non-null  float64\n",
      " 16  cnt_ofr_J             17000 non-null  float64\n",
      " 17  cnt_tran              17000 non-null  float64\n",
      " 18  avg_time_ofr_A        6374 non-null   float64\n",
      " 19  avg_time_ofr_B        6330 non-null   float64\n",
      " 20  avg_time_ofr_C        6331 non-null   float64\n",
      " 21  avg_time_ofr_D        6355 non-null   float64\n",
      " 22  avg_time_ofr_E        6374 non-null   float64\n",
      " 23  avg_time_ofr_F        6325 non-null   float64\n",
      " 24  avg_time_ofr_G        6332 non-null   float64\n",
      " 25  avg_time_ofr_H        6320 non-null   float64\n",
      " 26  avg_time_ofr_I        6262 non-null   float64\n",
      " 27  avg_time_ofr_J        6285 non-null   float64\n",
      " 28  avg_time_tran         16578 non-null  float64\n",
      " 29  max_time_ofr_A        6374 non-null   float64\n",
      " 30  max_time_ofr_B        6330 non-null   float64\n",
      " 31  max_time_ofr_C        6331 non-null   float64\n",
      " 32  max_time_ofr_D        6355 non-null   float64\n",
      " 33  max_time_ofr_E        6374 non-null   float64\n",
      " 34  max_time_ofr_F        6325 non-null   float64\n",
      " 35  max_time_ofr_G        6332 non-null   float64\n",
      " 36  max_time_ofr_H        6320 non-null   float64\n",
      " 37  max_time_ofr_I        6262 non-null   float64\n",
      " 38  max_time_ofr_J        6285 non-null   float64\n",
      " 39  max_time_tran         16578 non-null  float64\n",
      " 40  min_time_ofr_A        6374 non-null   float64\n",
      " 41  min_time_ofr_B        6330 non-null   float64\n",
      " 42  min_time_ofr_C        6331 non-null   float64\n",
      " 43  min_time_ofr_D        6355 non-null   float64\n",
      " 44  min_time_ofr_E        6374 non-null   float64\n",
      " 45  min_time_ofr_F        6325 non-null   float64\n",
      " 46  min_time_ofr_G        6332 non-null   float64\n",
      " 47  min_time_ofr_H        6320 non-null   float64\n",
      " 48  min_time_ofr_I        6262 non-null   float64\n",
      " 49  min_time_ofr_J        6285 non-null   float64\n",
      " 50  min_time_tran         16578 non-null  float64\n",
      " 51  cnt_eve_completed     17000 non-null  float64\n",
      " 52  cnt_eve_received      17000 non-null  float64\n",
      " 53  cnt_eve_transaction   17000 non-null  float64\n",
      " 54  cnt_eve_viewed        17000 non-null  float64\n",
      " 55  avg_time_completed    12774 non-null  float64\n",
      " 56  avg_time_received     16994 non-null  float64\n",
      " 57  avg_time_transaction  16578 non-null  float64\n",
      " 58  avg_time_viewed       16834 non-null  float64\n",
      " 59  max_time_completed    12774 non-null  float64\n",
      " 60  max_time_received     16994 non-null  float64\n",
      " 61  max_time_transaction  16578 non-null  float64\n",
      " 62  max_time_viewed       16834 non-null  float64\n",
      " 63  min_time_completed    12774 non-null  float64\n",
      " 64  min_time_received     16994 non-null  float64\n",
      " 65  min_time_transaction  16578 non-null  float64\n",
      " 66  min_time_viewed       16834 non-null  float64\n",
      "dtypes: float64(61), int64(1), object(5)\n",
      "memory usage: 8.7+ MB\n"
     ]
    }
   ],
   "source": [
    "user_item_time = pd.read_csv('silver/user_item_time.csv')\n",
    "user_item_time.info()"
   ]
  },
  {
   "cell_type": "code",
   "execution_count": 29,
   "metadata": {},
   "outputs": [
    {
     "name": "stdout",
     "output_type": "stream",
     "text": [
      "<class 'pandas.core.frame.DataFrame'>\n",
      "RangeIndex: 10 entries, 0 to 9\n",
      "Data columns (total 13 columns):\n",
      " #   Column               Non-Null Count  Dtype  \n",
      "---  ------               --------------  -----  \n",
      " 0   ofr_id_short         10 non-null     object \n",
      " 1   cnt_completed        10 non-null     float64\n",
      " 2   cnt_received         10 non-null     float64\n",
      " 3   cnt_viewed           10 non-null     float64\n",
      " 4   mean_time_completed  8 non-null      float64\n",
      " 5   mean_time_received   10 non-null     float64\n",
      " 6   mean_time_viewed     10 non-null     float64\n",
      " 7   max_time_completed   8 non-null      float64\n",
      " 8   max_time_received    10 non-null     float64\n",
      " 9   max_time_viewed      10 non-null     float64\n",
      " 10  min_time_completed   8 non-null      float64\n",
      " 11  min_time_received    10 non-null     float64\n",
      " 12  min_time_viewed      10 non-null     float64\n",
      "dtypes: float64(12), object(1)\n",
      "memory usage: 1.1+ KB\n"
     ]
    }
   ],
   "source": [
    "offer_event_summary = pd.read_csv('silver/offer_event_summary.csv')\n",
    "offer_event_summary.info()"
   ]
  },
  {
   "cell_type": "code",
   "execution_count": 36,
   "metadata": {},
   "outputs": [
    {
     "name": "stdout",
     "output_type": "stream",
     "text": [
      "<class 'pandas.core.frame.DataFrame'>\n",
      "RangeIndex: 16578 entries, 0 to 16577\n",
      "Data columns (total 6 columns):\n",
      " #   Column           Non-Null Count  Dtype  \n",
      "---  ------           --------------  -----  \n",
      " 0   person           16578 non-null  object \n",
      " 1   tran_count       16578 non-null  int64  \n",
      " 2   tran_amoun_tot   16578 non-null  float64\n",
      " 3   tran_amoun_mean  16578 non-null  float64\n",
      " 4   tran_amoun_max   16578 non-null  float64\n",
      " 5   tran_amoun_min   16578 non-null  float64\n",
      "dtypes: float64(4), int64(1), object(1)\n",
      "memory usage: 777.2+ KB\n"
     ]
    }
   ],
   "source": [
    "person_transaction_summary = pd.read_csv('silver/person_transaction_summary.csv')\n",
    "person_transaction_summary.info()"
   ]
  },
  {
   "cell_type": "code",
   "execution_count": 42,
   "metadata": {},
   "outputs": [
    {
     "name": "stdout",
     "output_type": "stream",
     "text": [
      "<class 'pandas.core.frame.DataFrame'>\n",
      "RangeIndex: 17000 entries, 0 to 16999\n",
      "Data columns (total 31 columns):\n",
      " #   Column               Non-Null Count  Dtype  \n",
      "---  ------               --------------  -----  \n",
      " 0   gender               14825 non-null  object \n",
      " 1   age                  17000 non-null  int64  \n",
      " 2   id                   17000 non-null  object \n",
      " 3   became_member_on     17000 non-null  object \n",
      " 4   income               14825 non-null  float64\n",
      " 5   bec_memb_year_month  17000 non-null  object \n",
      " 6   age_group            17000 non-null  object \n",
      " 7   period_1             16578 non-null  float64\n",
      " 8   period_2             16578 non-null  float64\n",
      " 9   period_3             16578 non-null  float64\n",
      " 10  period_4             16578 non-null  float64\n",
      " 11  period_5             16578 non-null  float64\n",
      " 12  period_6             16578 non-null  float64\n",
      " 13  period_7             16578 non-null  float64\n",
      " 14  period_8             16578 non-null  float64\n",
      " 15  period_9             16578 non-null  float64\n",
      " 16  period_10            16578 non-null  float64\n",
      " 17  period_11            16578 non-null  float64\n",
      " 18  period_12            16578 non-null  float64\n",
      " 19  period_13            16578 non-null  float64\n",
      " 20  period_14            16578 non-null  float64\n",
      " 21  period_15            16578 non-null  float64\n",
      " 22  period_16            16578 non-null  float64\n",
      " 23  period_17            16578 non-null  float64\n",
      " 24  period_18            16578 non-null  float64\n",
      " 25  period_19            16578 non-null  float64\n",
      " 26  period_20            16578 non-null  float64\n",
      " 27  recency              16578 non-null  float64\n",
      " 28  amount               16578 non-null  float64\n",
      " 29  churn                16578 non-null  float64\n",
      " 30  churn2               16578 non-null  float64\n",
      "dtypes: float64(25), int64(1), object(5)\n",
      "memory usage: 4.0+ MB\n"
     ]
    }
   ],
   "source": [
    "churn_table = pd.read_csv('gold/churn_table.csv')\n",
    "churn_table.info()"
   ]
  }
 ],
 "metadata": {
  "kernelspec": {
   "display_name": ".env",
   "language": "python",
   "name": "python3"
  },
  "language_info": {
   "codemirror_mode": {
    "name": "ipython",
    "version": 3
   },
   "file_extension": ".py",
   "mimetype": "text/x-python",
   "name": "python",
   "nbconvert_exporter": "python",
   "pygments_lexer": "ipython3",
   "version": "3.13.0"
  }
 },
 "nbformat": 4,
 "nbformat_minor": 2
}
