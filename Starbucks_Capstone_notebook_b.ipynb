{
 "cells": [
  {
   "cell_type": "markdown",
   "metadata": {},
   "source": [
    "# Starbucks Capstone Challenge\n",
    "\n",
    "### Introduction\n",
    "\n",
    "This data set contains simulated data that mimics customer behavior on the Starbucks rewards mobile app. Once every few days, Starbucks sends out an offer to users of the mobile app. An offer can be merely an advertisement for a drink or an actual offer such as a discount or BOGO (buy one get one free). Some users might not receive any offer during certain weeks. \n",
    "\n",
    "Not all users receive the same offer, and that is the challenge to solve with this data set.\n",
    "\n",
    "Your task is to combine transaction, demographic and offer data to determine which demographic groups respond best to which offer type. This data set is a simplified version of the real Starbucks app because the underlying simulator only has one product whereas Starbucks actually sells dozens of products.\n",
    "\n",
    "Every offer has a validity period before the offer expires. As an example, a BOGO offer might be valid for only 5 days. You'll see in the data set that informational offers have a validity period even though these ads are merely providing information about a product; for example, if an informational offer has 7 days of validity, you can assume the customer is feeling the influence of the offer for 7 days after receiving the advertisement.\n",
    "\n",
    "You'll be given transactional data showing user purchases made on the app including the timestamp of purchase and the amount of money spent on a purchase. This transactional data also has a record for each offer that a user receives as well as a record for when a user actually views the offer. There are also records for when a user completes an offer. \n",
    "\n",
    "Keep in mind as well that someone using the app might make a purchase through the app without having received an offer or seen an offer.\n",
    "\n",
    "### Example\n",
    "\n",
    "To give an example, a user could receive a discount offer buy 10 dollars get 2 off on Monday. The offer is valid for 10 days from receipt. If the customer accumulates at least 10 dollars in purchases during the validity period, the customer completes the offer.\n",
    "\n",
    "However, there are a few things to watch out for in this data set. Customers do not opt into the offers that they receive; in other words, a user can receive an offer, never actually view the offer, and still complete the offer. For example, a user might receive the \"buy 10 dollars get 2 dollars off offer\", but the user never opens the offer during the 10 day validity period. The customer spends 15 dollars during those ten days. There will be an offer completion record in the data set; however, the customer was not influenced by the offer because the customer never viewed the offer.\n",
    "\n",
    "### Cleaning\n",
    "\n",
    "This makes data cleaning especially important and tricky.\n",
    "\n",
    "You'll also want to take into account that some demographic groups will make purchases even if they don't receive an offer. From a business perspective, if a customer is going to make a 10 dollar purchase without an offer anyway, you wouldn't want to send a buy 10 dollars get 2 dollars off offer. You'll want to try to assess what a certain demographic group will buy when not receiving any offers.\n",
    "\n",
    "### Final Advice\n",
    "\n",
    "Because this is a capstone project, you are free to analyze the data any way you see fit. For example, you could build a machine learning model that predicts how much someone will spend based on demographics and offer type. Or you could build a model that predicts whether or not someone will respond to an offer. Or, you don't need to build a machine learning model at all. You could develop a set of heuristics that determine what offer you should send to each customer (i.e., 75 percent of women customers who were 35 years old responded to offer A vs 40 percent from the same demographic to offer B, so send offer A)."
   ]
  },
  {
   "cell_type": "markdown",
   "metadata": {},
   "source": [
    "# Data Sets\n",
    "\n",
    "The data is contained in three files:\n",
    "\n",
    "* portfolio.json - containing offer ids and meta data about each offer (duration, type, etc.)\n",
    "* profile.json - demographic data for each customer\n",
    "* transcript.json - records for transactions, offers received, offers viewed, and offers completed\n",
    "\n",
    "Here is the schema and explanation of each variable in the files:\n",
    "\n",
    "**portfolio.json**\n",
    "* id (string) - offer id\n",
    "* offer_type (string) - type of offer ie BOGO, discount, informational\n",
    "* difficulty (int) - minimum required spend to complete an offer\n",
    "* reward (int) - reward given for completing an offer\n",
    "* duration (int) - time for offer to be open, in days\n",
    "* channels (list of strings)\n",
    "\n",
    "**profile.json**\n",
    "* age (int) - age of the customer \n",
    "* became_member_on (int) - date when customer created an app account\n",
    "* gender (str) - gender of the customer (note some entries contain 'O' for other rather than M or F)\n",
    "* id (str) - customer id\n",
    "* income (float) - customer's income\n",
    "\n",
    "**transcript.json**\n",
    "* event (str) - record description (ie transaction, offer received, offer viewed, etc.)\n",
    "* person (str) - customer id\n",
    "* time (int) - time in hours since start of test. The data begins at time t=0\n",
    "* value - (dict of strings) - either an offer id or transaction amount depending on the record\n",
    "\n",
    "**Note:** If you are using the workspace, you will need to go to the terminal and run the command `conda update pandas` before reading in the files. This is because the version of pandas in the workspace cannot read in the transcript.json file correctly, but the newest version of pandas can. You can access the termnal from the orange icon in the top left of this notebook.  \n",
    "\n",
    "You can see how to access the terminal and how the install works using the two images below.  First you need to access the terminal:\n",
    "\n",
    "<img src=\"pic1.png\"/>\n",
    "\n",
    "Then you will want to run the above command:\n",
    "\n",
    "<img src=\"pic2.png\"/>\n",
    "\n",
    "Finally, when you enter back into the notebook (use the jupyter icon again), you should be able to run the below cell without any errors."
   ]
  },
  {
   "cell_type": "code",
   "execution_count": 1,
   "metadata": {},
   "outputs": [],
   "source": [
    "import pandas as pd\n",
    "import numpy as np\n",
    "import math\n",
    "import json\n",
    "import matplotlib.pyplot as plt\n",
    "import seaborn as sns\n",
    "from datetime import datetime\n",
    "from matplotlib.ticker import MaxNLocator\n",
    "\n",
    "# read in the json files\n",
    "portfolio_raw = pd.read_json('data/portfolio.json', orient='records', lines=True)\n",
    "profile_raw = pd.read_json('data/profile.json', orient='records', lines=True)\n",
    "transcript_raw = pd.read_json('data/transcript.json', orient='records', lines=True)"
   ]
  },
  {
   "cell_type": "markdown",
   "metadata": {},
   "source": [
    "## Data understanding"
   ]
  },
  {
   "cell_type": "markdown",
   "metadata": {},
   "source": [
    "\n",
    "\n",
    "**portfolio.json**\n",
    "* id (string) - offer id\n",
    "* offer_type (string) - type of offer ie BOGO, discount, informational\n",
    "* difficulty (int) - minimum required spend to complete an offer\n",
    "* reward (int) - reward given for completing an offer\n",
    "* duration (int) - time for offer to be open, in days\n",
    "* channels (list of strings)\n",
    "\n",
    "\n",
    "** -> Data is cleaned and ready to be used**"
   ]
  },
  {
   "cell_type": "code",
   "execution_count": null,
   "metadata": {},
   "outputs": [],
   "source": [
    "portfolio_raw.info()"
   ]
  },
  {
   "cell_type": "code",
   "execution_count": null,
   "metadata": {},
   "outputs": [],
   "source": [
    "# portfolio_raw['channels'].explode().unique()"
   ]
  },
  {
   "cell_type": "markdown",
   "metadata": {},
   "source": [
    "**profile.json**\n",
    "* age (int) - age of the customer \n",
    "* became_member_on (int) - date when customer created an app account\n",
    "* gender (str) - gender of the customer (note some entries contain 'O' for other rather than M or F)\n",
    "* id (str) - customer id\n",
    "* income (float) - customer's income\n",
    "\n",
    "**-> the NoneType gender will be removed from profile dataset and storage in a new dataset**"
   ]
  },
  {
   "cell_type": "code",
   "execution_count": null,
   "metadata": {},
   "outputs": [],
   "source": [
    "profile_raw.info()"
   ]
  },
  {
   "cell_type": "markdown",
   "metadata": {},
   "source": [
    "**transcript.json**\n",
    "* event (str) - record description (ie transaction, offer received, offer viewed, etc.)\n",
    "* person (str) - customer id\n",
    "* time (int) - time in hours since start of test. The data begins at time t=0\n",
    "* value - (dict of strings) - either an offer id or transaction amount depending on the record"
   ]
  },
  {
   "cell_type": "code",
   "execution_count": null,
   "metadata": {},
   "outputs": [],
   "source": [
    "transcript_raw.info()"
   ]
  },
  {
   "cell_type": "code",
   "execution_count": null,
   "metadata": {},
   "outputs": [],
   "source": [
    "transcript_raw['event'].value_counts()"
   ]
  },
  {
   "cell_type": "code",
   "execution_count": null,
   "metadata": {},
   "outputs": [],
   "source": [
    "{[*x][0] for x in transcript_raw['value']}"
   ]
  },
  {
   "cell_type": "markdown",
   "metadata": {},
   "source": [
    "### Data Cleaning and Formatting Plan\n",
    "\n",
    "#### **Objective**\n",
    "- Clean and standardize the dataset while handling null values appropriately.\n",
    "\n",
    "---\n",
    "\n",
    "#### **Profile Dataset**\n",
    "1. Split the `profile` dataset into two subsets:\n",
    "   - One containing rows where the `gender` is `none`.\n",
    "   - Another containing rows with all other `gender` values.\n",
    "\n",
    "2. Convert the `became_member_on` column to a standardized **datetime** format for consistency and easier analysis.\n",
    "\n",
    "---\n",
    "\n",
    "#### **Portfolio Dataset**\n",
    "- Update column names to make them more descriptive and easier to read.\n",
    "\n",
    "---\n",
    "\n",
    "#### **Transcript Dataset**\n",
    "- Modify the keys within the `value` dictionaries by replacing spaces (`' '`) with underscores (`'_'`) to ensure uniformity and avoid potential issues in further processing.\n",
    "\n",
    "---"
   ]
  },
  {
   "cell_type": "code",
   "execution_count": 2,
   "metadata": {},
   "outputs": [],
   "source": [
    "profile = profile_raw.copy(deep=True)\n",
    "\n",
    "# Convert the 'became_member_on' column to a datetime format\n",
    "profile['became_member_on'] = pd.to_datetime(profile['became_member_on'], format='%Y%m%d')\n",
    "\n",
    "# Create a new column with only the year and month of the membership\n",
    "profile['bec_memb_year_month'] = pd.to_datetime(profile['became_member_on'], format='%Y%m%d').dt.strftime('%Y-%m')"
   ]
  },
  {
   "cell_type": "code",
   "execution_count": null,
   "metadata": {},
   "outputs": [],
   "source": [
    "profile.info()"
   ]
  },
  {
   "cell_type": "code",
   "execution_count": 3,
   "metadata": {},
   "outputs": [
    {
     "name": "stdout",
     "output_type": "stream",
     "text": [
      "<class 'pandas.core.frame.DataFrame'>\n",
      "RangeIndex: 10 entries, 0 to 9\n",
      "Data columns (total 6 columns):\n",
      " #   Column      Non-Null Count  Dtype \n",
      "---  ------      --------------  ----- \n",
      " 0   reward      10 non-null     int64 \n",
      " 1   channels    10 non-null     object\n",
      " 2   difficulty  10 non-null     int64 \n",
      " 3   duration    10 non-null     int64 \n",
      " 4   offer_type  10 non-null     object\n",
      " 5   id          10 non-null     object\n",
      "dtypes: int64(3), object(3)\n",
      "memory usage: 612.0+ bytes\n"
     ]
    }
   ],
   "source": [
    "portfolio = portfolio_raw.copy()\n",
    "portfolio.info()"
   ]
  },
  {
   "cell_type": "code",
   "execution_count": 4,
   "metadata": {},
   "outputs": [
    {
     "name": "stdout",
     "output_type": "stream",
     "text": [
      "<class 'pandas.core.frame.DataFrame'>\n",
      "RangeIndex: 306534 entries, 0 to 306533\n",
      "Data columns (total 6 columns):\n",
      " #   Column    Non-Null Count   Dtype  \n",
      "---  ------    --------------   -----  \n",
      " 0   person    306534 non-null  object \n",
      " 1   event     306534 non-null  object \n",
      " 2   time      306534 non-null  int64  \n",
      " 3   offer_id  167581 non-null  object \n",
      " 4   amount    138953 non-null  float64\n",
      " 5   reward    33579 non-null   float64\n",
      "dtypes: float64(2), int64(1), object(3)\n",
      "memory usage: 14.0+ MB\n"
     ]
    }
   ],
   "source": [
    "# Standardisation of column names\n",
    "transcript = transcript_raw.copy(deep=True)\n",
    "transcript['event'] = transcript['event'].str.replace(' ','_')\n",
    "\n",
    "# Fixing the dicts key names\n",
    "def fix_offer_id(value):\n",
    "    if isinstance(value, dict) and 'offer id' in value:\n",
    "        value['offer_id'] = value.pop('offer id')\n",
    "    return value\n",
    "\n",
    "transcript['value'] = transcript['value'].apply(fix_offer_id)\n",
    "\n",
    "# Normalizing the value column and create a new dataframe\n",
    "value_df = pd.json_normalize(transcript['value']) \n",
    "transcript_b = pd.concat([transcript, value_df], axis=1).drop('value', axis=1)\n",
    "\n",
    "transcript_b.info()"
   ]
  },
  {
   "cell_type": "code",
   "execution_count": 5,
   "metadata": {},
   "outputs": [
    {
     "name": "stdout",
     "output_type": "stream",
     "text": [
      "<class 'pandas.core.frame.DataFrame'>\n",
      "Index: 167581 entries, 0 to 306527\n",
      "Data columns (total 6 columns):\n",
      " #   Column    Non-Null Count   Dtype  \n",
      "---  ------    --------------   -----  \n",
      " 0   person    167581 non-null  object \n",
      " 1   event     167581 non-null  object \n",
      " 2   time      167581 non-null  int64  \n",
      " 3   offer_id  167581 non-null  object \n",
      " 4   amount    0 non-null       float64\n",
      " 5   reward    33579 non-null   float64\n",
      "dtypes: float64(2), int64(1), object(3)\n",
      "memory usage: 8.9+ MB\n"
     ]
    }
   ],
   "source": [
    "transactions = transcript_b.loc[transcript_b['event'] == 'transaction',:]\n",
    "transcript_c = transcript_b.loc[transcript_b['event'] != 'transaction',:]\n",
    "transcript_c.info()"
   ]
  },
  {
   "cell_type": "code",
   "execution_count": null,
   "metadata": {},
   "outputs": [],
   "source": [
    "transactions.info()"
   ]
  },
  {
   "cell_type": "code",
   "execution_count": 6,
   "metadata": {},
   "outputs": [],
   "source": [
    "transcript_collection = transcript_c.merge(profile, left_on='person', right_on='id', how='left').drop('id', axis=1)"
   ]
  },
  {
   "cell_type": "code",
   "execution_count": 7,
   "metadata": {},
   "outputs": [
    {
     "name": "stdout",
     "output_type": "stream",
     "text": [
      "<class 'pandas.core.frame.DataFrame'>\n",
      "RangeIndex: 167581 entries, 0 to 167580\n",
      "Data columns (total 11 columns):\n",
      " #   Column               Non-Null Count   Dtype         \n",
      "---  ------               --------------   -----         \n",
      " 0   person               167581 non-null  object        \n",
      " 1   event                167581 non-null  object        \n",
      " 2   time                 167581 non-null  int64         \n",
      " 3   offer_id             167581 non-null  object        \n",
      " 4   amount               0 non-null       float64       \n",
      " 5   reward               33579 non-null   float64       \n",
      " 6   gender               148805 non-null  object        \n",
      " 7   age                  167581 non-null  int64         \n",
      " 8   became_member_on     167581 non-null  datetime64[ns]\n",
      " 9   income               148805 non-null  float64       \n",
      " 10  bec_memb_year_month  167581 non-null  object        \n",
      "dtypes: datetime64[ns](1), float64(3), int64(2), object(5)\n",
      "memory usage: 14.1+ MB\n"
     ]
    }
   ],
   "source": [
    "transcript_collection.info()"
   ]
  },
  {
   "cell_type": "code",
   "execution_count": 8,
   "metadata": {},
   "outputs": [
    {
     "name": "stdout",
     "output_type": "stream",
     "text": [
      "<class 'pandas.core.frame.DataFrame'>\n",
      "RangeIndex: 167581 entries, 0 to 167580\n",
      "Data columns (total 16 columns):\n",
      " #   Column               Non-Null Count   Dtype         \n",
      "---  ------               --------------   -----         \n",
      " 0   person               167581 non-null  object        \n",
      " 1   event                167581 non-null  object        \n",
      " 2   time                 167581 non-null  int64         \n",
      " 3   offer_id             167581 non-null  object        \n",
      " 4   amount               0 non-null       float64       \n",
      " 5   reward               33579 non-null   float64       \n",
      " 6   gender               148805 non-null  object        \n",
      " 7   age                  167581 non-null  int64         \n",
      " 8   became_member_on     167581 non-null  datetime64[ns]\n",
      " 9   income               148805 non-null  float64       \n",
      " 10  bec_memb_year_month  167581 non-null  object        \n",
      " 11  reward_std           167581 non-null  int64         \n",
      " 12  channels             167581 non-null  object        \n",
      " 13  difficulty           167581 non-null  int64         \n",
      " 14  duration             167581 non-null  int64         \n",
      " 15  offer_type           167581 non-null  object        \n",
      "dtypes: datetime64[ns](1), float64(3), int64(5), object(7)\n",
      "memory usage: 20.5+ MB\n"
     ]
    }
   ],
   "source": [
    "transcript_collection = transcript_collection.merge(portfolio, left_on='offer_id', right_on='id', how='left', suffixes=(' ', '_std')).drop('id', axis=1)\n",
    "\n",
    "transcript_collection.info()"
   ]
  },
  {
   "cell_type": "code",
   "execution_count": 9,
   "metadata": {},
   "outputs": [],
   "source": [
    "port_id = {\n",
    "    'ae264e3637204a6fb9bb56bc8210ddfd': 'ofr_A',\n",
    "    '4d5c57ea9a6940dd891ad53e9dbe8da0': 'ofr_B',\n",
    "    '3f207df678b143eea3cee63160fa8bed': 'ofr_C',\n",
    "    '9b98b8c7a33c4b65b9aebfe6a799e6d9': 'ofr_D',\n",
    "    '0b1e1539f2cc45b7b9fa7c272da2e1d7': 'ofr_E',\n",
    "    '2298d6c36e964ae4a3e7e9706d1fb8c2': 'ofr_F',\n",
    "    'fafdcd668e3743c1bb461111dcafc2a4': 'ofr_G',\n",
    "    '5a8bc65990b245e5a138643cd4eb9837': 'ofr_H',\n",
    "    'f19421c1d4aa40978ebb69ca19b0e20d': 'ofr_I',\n",
    "    '2906b810c7d4411798c6938adc9daaa5': 'ofr_J'\n",
    "}\n",
    "\n",
    "transcript_collection['ofr_id_short'] = transcript_collection['offer_id'].map(port_id)\n",
    "transcript_collection = transcript_collection.drop(['offer_id'], axis=1)"
   ]
  },
  {
   "cell_type": "code",
   "execution_count": 10,
   "metadata": {},
   "outputs": [
    {
     "data": {
      "text/html": [
       "<div>\n",
       "<style scoped>\n",
       "    .dataframe tbody tr th:only-of-type {\n",
       "        vertical-align: middle;\n",
       "    }\n",
       "\n",
       "    .dataframe tbody tr th {\n",
       "        vertical-align: top;\n",
       "    }\n",
       "\n",
       "    .dataframe thead th {\n",
       "        text-align: right;\n",
       "    }\n",
       "</style>\n",
       "<table border=\"1\" class=\"dataframe\">\n",
       "  <thead>\n",
       "    <tr style=\"text-align: right;\">\n",
       "      <th></th>\n",
       "      <th>person</th>\n",
       "      <th>event</th>\n",
       "      <th>time</th>\n",
       "      <th>amount</th>\n",
       "      <th>reward</th>\n",
       "      <th>gender</th>\n",
       "      <th>age</th>\n",
       "      <th>became_member_on</th>\n",
       "      <th>income</th>\n",
       "      <th>bec_memb_year_month</th>\n",
       "      <th>reward_std</th>\n",
       "      <th>channels</th>\n",
       "      <th>difficulty</th>\n",
       "      <th>duration</th>\n",
       "      <th>offer_type</th>\n",
       "      <th>ofr_id_short</th>\n",
       "    </tr>\n",
       "  </thead>\n",
       "  <tbody>\n",
       "    <tr>\n",
       "      <th>0</th>\n",
       "      <td>78afa995795e4d85b5d9ceeca43f5fef</td>\n",
       "      <td>offer_received</td>\n",
       "      <td>0</td>\n",
       "      <td>NaN</td>\n",
       "      <td>NaN</td>\n",
       "      <td>F</td>\n",
       "      <td>75</td>\n",
       "      <td>2017-05-09</td>\n",
       "      <td>100000.0</td>\n",
       "      <td>2017-05</td>\n",
       "      <td>5</td>\n",
       "      <td>[web, email, mobile]</td>\n",
       "      <td>5</td>\n",
       "      <td>7</td>\n",
       "      <td>bogo</td>\n",
       "      <td>ofr_D</td>\n",
       "    </tr>\n",
       "    <tr>\n",
       "      <th>1</th>\n",
       "      <td>a03223e636434f42ac4c3df47e8bac43</td>\n",
       "      <td>offer_received</td>\n",
       "      <td>0</td>\n",
       "      <td>NaN</td>\n",
       "      <td>NaN</td>\n",
       "      <td>None</td>\n",
       "      <td>118</td>\n",
       "      <td>2017-08-04</td>\n",
       "      <td>NaN</td>\n",
       "      <td>2017-08</td>\n",
       "      <td>5</td>\n",
       "      <td>[web, email]</td>\n",
       "      <td>20</td>\n",
       "      <td>10</td>\n",
       "      <td>discount</td>\n",
       "      <td>ofr_E</td>\n",
       "    </tr>\n",
       "    <tr>\n",
       "      <th>2</th>\n",
       "      <td>e2127556f4f64592b11af22de27a7932</td>\n",
       "      <td>offer_received</td>\n",
       "      <td>0</td>\n",
       "      <td>NaN</td>\n",
       "      <td>NaN</td>\n",
       "      <td>M</td>\n",
       "      <td>68</td>\n",
       "      <td>2018-04-26</td>\n",
       "      <td>70000.0</td>\n",
       "      <td>2018-04</td>\n",
       "      <td>2</td>\n",
       "      <td>[web, email, mobile]</td>\n",
       "      <td>10</td>\n",
       "      <td>7</td>\n",
       "      <td>discount</td>\n",
       "      <td>ofr_J</td>\n",
       "    </tr>\n",
       "    <tr>\n",
       "      <th>3</th>\n",
       "      <td>8ec6ce2a7e7949b1bf142def7d0e0586</td>\n",
       "      <td>offer_received</td>\n",
       "      <td>0</td>\n",
       "      <td>NaN</td>\n",
       "      <td>NaN</td>\n",
       "      <td>None</td>\n",
       "      <td>118</td>\n",
       "      <td>2017-09-25</td>\n",
       "      <td>NaN</td>\n",
       "      <td>2017-09</td>\n",
       "      <td>2</td>\n",
       "      <td>[web, email, mobile, social]</td>\n",
       "      <td>10</td>\n",
       "      <td>10</td>\n",
       "      <td>discount</td>\n",
       "      <td>ofr_G</td>\n",
       "    </tr>\n",
       "    <tr>\n",
       "      <th>4</th>\n",
       "      <td>68617ca6246f4fbc85e91a2a49552598</td>\n",
       "      <td>offer_received</td>\n",
       "      <td>0</td>\n",
       "      <td>NaN</td>\n",
       "      <td>NaN</td>\n",
       "      <td>None</td>\n",
       "      <td>118</td>\n",
       "      <td>2017-10-02</td>\n",
       "      <td>NaN</td>\n",
       "      <td>2017-10</td>\n",
       "      <td>10</td>\n",
       "      <td>[web, email, mobile, social]</td>\n",
       "      <td>10</td>\n",
       "      <td>5</td>\n",
       "      <td>bogo</td>\n",
       "      <td>ofr_B</td>\n",
       "    </tr>\n",
       "    <tr>\n",
       "      <th>...</th>\n",
       "      <td>...</td>\n",
       "      <td>...</td>\n",
       "      <td>...</td>\n",
       "      <td>...</td>\n",
       "      <td>...</td>\n",
       "      <td>...</td>\n",
       "      <td>...</td>\n",
       "      <td>...</td>\n",
       "      <td>...</td>\n",
       "      <td>...</td>\n",
       "      <td>...</td>\n",
       "      <td>...</td>\n",
       "      <td>...</td>\n",
       "      <td>...</td>\n",
       "      <td>...</td>\n",
       "      <td>...</td>\n",
       "    </tr>\n",
       "    <tr>\n",
       "      <th>167576</th>\n",
       "      <td>a6f84f4e976f44508c358cc9aba6d2b3</td>\n",
       "      <td>offer_completed</td>\n",
       "      <td>714</td>\n",
       "      <td>NaN</td>\n",
       "      <td>3.0</td>\n",
       "      <td>None</td>\n",
       "      <td>118</td>\n",
       "      <td>2017-01-16</td>\n",
       "      <td>NaN</td>\n",
       "      <td>2017-01</td>\n",
       "      <td>3</td>\n",
       "      <td>[web, email, mobile, social]</td>\n",
       "      <td>7</td>\n",
       "      <td>7</td>\n",
       "      <td>discount</td>\n",
       "      <td>ofr_F</td>\n",
       "    </tr>\n",
       "    <tr>\n",
       "      <th>167577</th>\n",
       "      <td>b895c57e8cd047a8872ce02aa54759d6</td>\n",
       "      <td>offer_completed</td>\n",
       "      <td>714</td>\n",
       "      <td>NaN</td>\n",
       "      <td>2.0</td>\n",
       "      <td>None</td>\n",
       "      <td>118</td>\n",
       "      <td>2017-01-25</td>\n",
       "      <td>NaN</td>\n",
       "      <td>2017-01</td>\n",
       "      <td>2</td>\n",
       "      <td>[web, email, mobile, social]</td>\n",
       "      <td>10</td>\n",
       "      <td>10</td>\n",
       "      <td>discount</td>\n",
       "      <td>ofr_G</td>\n",
       "    </tr>\n",
       "    <tr>\n",
       "      <th>167578</th>\n",
       "      <td>8dda575c2a1d44b9ac8e8b07b93d1f8e</td>\n",
       "      <td>offer_viewed</td>\n",
       "      <td>714</td>\n",
       "      <td>NaN</td>\n",
       "      <td>NaN</td>\n",
       "      <td>F</td>\n",
       "      <td>60</td>\n",
       "      <td>2017-09-08</td>\n",
       "      <td>64000.0</td>\n",
       "      <td>2017-09</td>\n",
       "      <td>5</td>\n",
       "      <td>[web, email]</td>\n",
       "      <td>20</td>\n",
       "      <td>10</td>\n",
       "      <td>discount</td>\n",
       "      <td>ofr_E</td>\n",
       "    </tr>\n",
       "    <tr>\n",
       "      <th>167579</th>\n",
       "      <td>8431c16f8e1d440880db371a68f82dd0</td>\n",
       "      <td>offer_completed</td>\n",
       "      <td>714</td>\n",
       "      <td>NaN</td>\n",
       "      <td>2.0</td>\n",
       "      <td>M</td>\n",
       "      <td>39</td>\n",
       "      <td>2018-06-27</td>\n",
       "      <td>39000.0</td>\n",
       "      <td>2018-06</td>\n",
       "      <td>2</td>\n",
       "      <td>[web, email, mobile, social]</td>\n",
       "      <td>10</td>\n",
       "      <td>10</td>\n",
       "      <td>discount</td>\n",
       "      <td>ofr_G</td>\n",
       "    </tr>\n",
       "    <tr>\n",
       "      <th>167580</th>\n",
       "      <td>24f56b5e1849462093931b164eb803b5</td>\n",
       "      <td>offer_completed</td>\n",
       "      <td>714</td>\n",
       "      <td>NaN</td>\n",
       "      <td>2.0</td>\n",
       "      <td>F</td>\n",
       "      <td>48</td>\n",
       "      <td>2017-12-28</td>\n",
       "      <td>80000.0</td>\n",
       "      <td>2017-12</td>\n",
       "      <td>2</td>\n",
       "      <td>[web, email, mobile, social]</td>\n",
       "      <td>10</td>\n",
       "      <td>10</td>\n",
       "      <td>discount</td>\n",
       "      <td>ofr_G</td>\n",
       "    </tr>\n",
       "  </tbody>\n",
       "</table>\n",
       "<p>167581 rows × 16 columns</p>\n",
       "</div>"
      ],
      "text/plain": [
       "                                  person            event  time  amount  \\\n",
       "0       78afa995795e4d85b5d9ceeca43f5fef   offer_received     0     NaN   \n",
       "1       a03223e636434f42ac4c3df47e8bac43   offer_received     0     NaN   \n",
       "2       e2127556f4f64592b11af22de27a7932   offer_received     0     NaN   \n",
       "3       8ec6ce2a7e7949b1bf142def7d0e0586   offer_received     0     NaN   \n",
       "4       68617ca6246f4fbc85e91a2a49552598   offer_received     0     NaN   \n",
       "...                                  ...              ...   ...     ...   \n",
       "167576  a6f84f4e976f44508c358cc9aba6d2b3  offer_completed   714     NaN   \n",
       "167577  b895c57e8cd047a8872ce02aa54759d6  offer_completed   714     NaN   \n",
       "167578  8dda575c2a1d44b9ac8e8b07b93d1f8e     offer_viewed   714     NaN   \n",
       "167579  8431c16f8e1d440880db371a68f82dd0  offer_completed   714     NaN   \n",
       "167580  24f56b5e1849462093931b164eb803b5  offer_completed   714     NaN   \n",
       "\n",
       "        reward  gender  age became_member_on    income bec_memb_year_month  \\\n",
       "0           NaN      F   75       2017-05-09  100000.0             2017-05   \n",
       "1           NaN   None  118       2017-08-04       NaN             2017-08   \n",
       "2           NaN      M   68       2018-04-26   70000.0             2018-04   \n",
       "3           NaN   None  118       2017-09-25       NaN             2017-09   \n",
       "4           NaN   None  118       2017-10-02       NaN             2017-10   \n",
       "...         ...    ...  ...              ...       ...                 ...   \n",
       "167576      3.0   None  118       2017-01-16       NaN             2017-01   \n",
       "167577      2.0   None  118       2017-01-25       NaN             2017-01   \n",
       "167578      NaN      F   60       2017-09-08   64000.0             2017-09   \n",
       "167579      2.0      M   39       2018-06-27   39000.0             2018-06   \n",
       "167580      2.0      F   48       2017-12-28   80000.0             2017-12   \n",
       "\n",
       "        reward_std                      channels  difficulty  duration  \\\n",
       "0                5          [web, email, mobile]           5         7   \n",
       "1                5                  [web, email]          20        10   \n",
       "2                2          [web, email, mobile]          10         7   \n",
       "3                2  [web, email, mobile, social]          10        10   \n",
       "4               10  [web, email, mobile, social]          10         5   \n",
       "...            ...                           ...         ...       ...   \n",
       "167576           3  [web, email, mobile, social]           7         7   \n",
       "167577           2  [web, email, mobile, social]          10        10   \n",
       "167578           5                  [web, email]          20        10   \n",
       "167579           2  [web, email, mobile, social]          10        10   \n",
       "167580           2  [web, email, mobile, social]          10        10   \n",
       "\n",
       "       offer_type ofr_id_short  \n",
       "0            bogo        ofr_D  \n",
       "1        discount        ofr_E  \n",
       "2        discount        ofr_J  \n",
       "3        discount        ofr_G  \n",
       "4            bogo        ofr_B  \n",
       "...           ...          ...  \n",
       "167576   discount        ofr_F  \n",
       "167577   discount        ofr_G  \n",
       "167578   discount        ofr_E  \n",
       "167579   discount        ofr_G  \n",
       "167580   discount        ofr_G  \n",
       "\n",
       "[167581 rows x 16 columns]"
      ]
     },
     "execution_count": 10,
     "metadata": {},
     "output_type": "execute_result"
    }
   ],
   "source": [
    "transcript_collection"
   ]
  },
  {
   "cell_type": "code",
   "execution_count": 11,
   "metadata": {},
   "outputs": [
    {
     "name": "stdout",
     "output_type": "stream",
     "text": [
      "<class 'pandas.core.frame.DataFrame'>\n",
      "Index: 138953 entries, 12654 to 306533\n",
      "Data columns (total 6 columns):\n",
      " #   Column    Non-Null Count   Dtype  \n",
      "---  ------    --------------   -----  \n",
      " 0   person    138953 non-null  object \n",
      " 1   event     138953 non-null  object \n",
      " 2   time      138953 non-null  int64  \n",
      " 3   offer_id  0 non-null       object \n",
      " 4   amount    138953 non-null  float64\n",
      " 5   reward    0 non-null       float64\n",
      "dtypes: float64(2), int64(1), object(3)\n",
      "memory usage: 7.4+ MB\n"
     ]
    }
   ],
   "source": [
    "transactions.info()"
   ]
  },
  {
   "cell_type": "code",
   "execution_count": 12,
   "metadata": {},
   "outputs": [],
   "source": [
    "# MISSING\n",
    "\n",
    "transactions = transactions.dropna(axis=1)"
   ]
  },
  {
   "cell_type": "code",
   "execution_count": 13,
   "metadata": {},
   "outputs": [
    {
     "name": "stdout",
     "output_type": "stream",
     "text": [
      "<class 'pandas.core.frame.DataFrame'>\n",
      "Index: 138953 entries, 12654 to 306533\n",
      "Data columns (total 4 columns):\n",
      " #   Column  Non-Null Count   Dtype  \n",
      "---  ------  --------------   -----  \n",
      " 0   person  138953 non-null  object \n",
      " 1   event   138953 non-null  object \n",
      " 2   time    138953 non-null  int64  \n",
      " 3   amount  138953 non-null  float64\n",
      "dtypes: float64(1), int64(1), object(2)\n",
      "memory usage: 5.3+ MB\n"
     ]
    }
   ],
   "source": [
    "transactions.info()"
   ]
  },
  {
   "cell_type": "code",
   "execution_count": 14,
   "metadata": {},
   "outputs": [
    {
     "name": "stdout",
     "output_type": "stream",
     "text": [
      "<class 'pandas.core.frame.DataFrame'>\n",
      "RangeIndex: 167581 entries, 0 to 167580\n",
      "Data columns (total 16 columns):\n",
      " #   Column               Non-Null Count   Dtype         \n",
      "---  ------               --------------   -----         \n",
      " 0   person               167581 non-null  object        \n",
      " 1   event                167581 non-null  object        \n",
      " 2   time                 167581 non-null  int64         \n",
      " 3   amount               0 non-null       float64       \n",
      " 4   reward               33579 non-null   float64       \n",
      " 5   gender               148805 non-null  object        \n",
      " 6   age                  167581 non-null  int64         \n",
      " 7   became_member_on     167581 non-null  datetime64[ns]\n",
      " 8   income               148805 non-null  float64       \n",
      " 9   bec_memb_year_month  167581 non-null  object        \n",
      " 10  reward_std           167581 non-null  int64         \n",
      " 11  channels             167581 non-null  object        \n",
      " 12  difficulty           167581 non-null  int64         \n",
      " 13  duration             167581 non-null  int64         \n",
      " 14  offer_type           167581 non-null  object        \n",
      " 15  ofr_id_short         167581 non-null  object        \n",
      "dtypes: datetime64[ns](1), float64(3), int64(5), object(7)\n",
      "memory usage: 20.5+ MB\n"
     ]
    }
   ],
   "source": [
    "transcript_collection.info()"
   ]
  },
  {
   "cell_type": "code",
   "execution_count": 15,
   "metadata": {},
   "outputs": [
    {
     "data": {
      "text/plain": [
       "gender\n",
       "M       82896\n",
       "F       63719\n",
       "None    18776\n",
       "O        2190\n",
       "Name: count, dtype: int64"
      ]
     },
     "execution_count": 15,
     "metadata": {},
     "output_type": "execute_result"
    }
   ],
   "source": [
    "transcript_collection['gender'].value_counts(dropna=False)"
   ]
  }
 ],
 "metadata": {
  "kernelspec": {
   "display_name": ".env",
   "language": "python",
   "name": "python3"
  },
  "language_info": {
   "codemirror_mode": {
    "name": "ipython",
    "version": 3
   },
   "file_extension": ".py",
   "mimetype": "text/x-python",
   "name": "python",
   "nbconvert_exporter": "python",
   "pygments_lexer": "ipython3",
   "version": "3.13.0"
  }
 },
 "nbformat": 4,
 "nbformat_minor": 2
}
