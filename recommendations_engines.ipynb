{
 "cells": [
  {
   "cell_type": "markdown",
   "metadata": {},
   "source": [
    "# This notebook is deticated to create recommendations engines"
   ]
  },
  {
   "cell_type": "markdown",
   "metadata": {},
   "source": [
    "## Importing libraries"
   ]
  },
  {
   "cell_type": "code",
   "execution_count": 2,
   "metadata": {},
   "outputs": [],
   "source": [
    "import pandas as pd\n",
    "import matplotlib.pyplot as plt\n",
    "from sklearn.metrics.pairwise import cosine_similarity\n",
    "import numpy as np\n",
    "from sklearn.preprocessing import StandardScaler, MinMaxScaler"
   ]
  },
  {
   "cell_type": "markdown",
   "metadata": {},
   "source": [
    "## Loading Tables\n",
    "\n",
    "- Loading the selected tables from data store to apply for recommendations engines"
   ]
  },
  {
   "cell_type": "code",
   "execution_count": 3,
   "metadata": {},
   "outputs": [],
   "source": [
    "event = pd.read_csv('medalion_data_store/bronze/events.csv')\n",
    "unique_event_features = pd.read_csv('medalion_data_store/silver/unique_event_features.csv')\n",
    "user_item_profile = pd.read_csv('medalion_data_store/gold/user_item_profile.csv')"
   ]
  },
  {
   "cell_type": "markdown",
   "metadata": {},
   "source": [
    "# Rank-Based Recommendations\n",
    "\n",
    "Rank-Based Recommendation is a -simple- yet effective approach that ranks items based on predefined criteria and suggests the top-ranked items to users.\n",
    "\n",
    "## Steps\n",
    "\n",
    "---\n",
    "\n",
    "### 1. Ranking Offers Using `unique_event_features` Table\n",
    "- Extract relevant features from the `unique_event_features` table.\n",
    "- Define a ranking criterion, such as:\n",
    "  - User engagement metrics (e.g., offer completed, completion rate).\n",
    "- Sort the offers based on the selected ranking metric.\n",
    "\n",
    "### 2. Generating Recommendations\n",
    "- Use the ranked offers table along with the event data to personalize recommendations:\n",
    "  - Filter relevant offers.\n",
    "  - Select the top-ranked items to generate a recommendation list.\n",
    "  - Ensure that only previously unseen are included in the recommendation.\n",
    "\n",
    "---"
   ]
  },
  {
   "cell_type": "markdown",
   "metadata": {},
   "source": [
    "### Creating an offer ranked table"
   ]
  },
  {
   "cell_type": "code",
   "execution_count": 94,
   "metadata": {},
   "outputs": [
    {
     "name": "stdout",
     "output_type": "stream",
     "text": [
      "<class 'pandas.core.frame.DataFrame'>\n",
      "Index: 10 entries, 6 to 7\n",
      "Data columns (total 11 columns):\n",
      " #   Column             Non-Null Count  Dtype  \n",
      "---  ------             --------------  -----  \n",
      " 0   ofr_id_short       10 non-null     object \n",
      " 1   sum_receiv         10 non-null     float64\n",
      " 2   sum_view           10 non-null     float64\n",
      " 3   sum_comp           10 non-null     float64\n",
      " 4   sum_influ          10 non-null     int64  \n",
      " 5   sum_exinfl         10 non-null     int64  \n",
      " 6   mean_curiosity     10 non-null     float64\n",
      " 7   mean_eagerm        10 non-null     float64\n",
      " 8   mean_overall       10 non-null     float64\n",
      " 9   completition_rate  10 non-null     float64\n",
      " 10  viewed_rate        10 non-null     float64\n",
      "dtypes: float64(8), int64(2), object(1)\n",
      "memory usage: 960.0+ bytes\n"
     ]
    }
   ],
   "source": [
    "# Grouping data by 'ofr_id_short' and aggregating relevant metrics\n",
    "rank = unique_event_features.groupby('ofr_id_short').agg(\n",
    "    sum_receiv=('cnt_received', 'sum'),  # Total received count\n",
    "    sum_view=('cnt_viewed', 'sum'),      # Total viewed count\n",
    "    sum_comp=('cnt_completed', 'sum'),   # Total completed count\n",
    "    sum_influ=('influence', 'sum'),      # Total influence\n",
    "    sum_exinfl=('ext_influence', 'sum'), # Total external influence\n",
    "    mean_curiosity=('curiosity_vr', 'mean'),  # Average curiosity score\n",
    "    mean_eagerm=('eagerness_cv', 'mean'),    # Average eagerness score\n",
    "    mean_overall=('overall_cr', 'mean')      # Average overall conversion rate\n",
    ").reset_index()\n",
    "\n",
    "# Calculating additional performance metrics\n",
    "rank['completition_rate'] = rank['sum_comp'] / rank['sum_receiv']*100\n",
    "rank['viewed_rate'] = rank['sum_view'] / rank['sum_receiv']*100\n",
    "\n",
    "# Rounding numeric values to one decimal place for clarity\n",
    "rank = rank.round(1)\n",
    "\n",
    "rank = rank.sort_values(by=['sum_influ', 'completition_rate'], ascending=False)\n",
    "\n",
    "# saving the ranked table\n",
    "rank.to_csv('medalion_data_store/gold/offer_ranked.csv')\n",
    "\n",
    "\n",
    "# Display the final DataFrame\n",
    "rank.info()"
   ]
  },
  {
   "cell_type": "markdown",
   "metadata": {},
   "source": [
    "### Defining a Rank-Based recommendation function"
   ]
  },
  {
   "cell_type": "code",
   "execution_count": 168,
   "metadata": {},
   "outputs": [],
   "source": [
    "# Function to recommend offers based on ranking and past interactions\n",
    "def offer_rank_recommendation(person_id, event, offer_rank):\n",
    "    \"\"\"\n",
    "    Recommends offers that the person has not seen yet,\n",
    "    prioritizing those with higher influence and completion rates.\n",
    "    \n",
    "    Parameters:\n",
    "    person_id (str): The unique identifier of the person.\n",
    "    event (pd.DataFrame): The event data containing past interactions.\n",
    "    offer_rank (pd.DataFrame): The ranked offers data.\n",
    "    \n",
    "    Returns:\n",
    "    list: A list of recommended offer IDs sorted by priority.\n",
    "    \"\"\"\n",
    "    # Get offers that the person has already seen\n",
    "    products_seen = event[event['person'] == person_id]['ofr_id_short'].unique()\n",
    "\n",
    "    # Filter out seen offers and sort remaining offers by influence and completion rate\n",
    "    products_not_seen = (\n",
    "        offer_rank[~offer_rank['ofr_id_short'].isin(products_seen)]\n",
    "        .sort_values(by=['sum_influ', 'completition_rate'], ascending=False)['ofr_id_short']\n",
    "        .tolist()\n",
    "    )\n",
    "\n",
    "    print('*** Rank-Based Recommendations ***\\n')\n",
    "    print(f'The person saw: {products_seen}')\n",
    "    print(f'The recommended offers to person {person_id} are: {products_not_seen}')\n",
    "    print('------------------\\n')\n",
    "    \n",
    "    return products_not_seen  # Optionally, return only the top N recommendations"
   ]
  },
  {
   "cell_type": "markdown",
   "metadata": {},
   "source": [
    "### Checking for a user"
   ]
  },
  {
   "cell_type": "code",
   "execution_count": 120,
   "metadata": {},
   "outputs": [
    {
     "name": "stdout",
     "output_type": "stream",
     "text": [
      "*** Rank-Based Recommendations ***\n",
      "\n",
      "The person saw: ['ofr_E' 'ofr_C' 'ofr_H']\n",
      "\n",
      "The recommended offers to person 01d26f638c274aa0b965d24cefe3183f are: ['ofr_G', 'ofr_F', 'ofr_I', 'ofr_B', 'ofr_A', 'ofr_D', 'ofr_J']\n",
      "\n"
     ]
    }
   ],
   "source": [
    "# Example usage\n",
    "r1 = pd.Series(offer_rank_recommendation('01d26f638c274aa0b965d24cefe3183f', event, rank), name='01d26f638c274aa0b965d24cefe3183f')"
   ]
  },
  {
   "cell_type": "code",
   "execution_count": 121,
   "metadata": {},
   "outputs": [
    {
     "name": "stdout",
     "output_type": "stream",
     "text": [
      "*** Rank-Based Recommendations ***\n",
      "\n",
      "The person saw: ['ofr_G' 'ofr_E' 'ofr_J' 'ofr_D']\n",
      "\n",
      "The recommended offers to person ffff82501cea40309d5fdd7edcca4a07 are: ['ofr_F', 'ofr_I', 'ofr_B', 'ofr_A', 'ofr_C', 'ofr_H']\n",
      "\n"
     ]
    }
   ],
   "source": [
    "r2 = pd.Series(offer_rank_recommendation('ffff82501cea40309d5fdd7edcca4a07', event, rank), name='ffff82501cea40309d5fdd7edcca4a07')"
   ]
  },
  {
   "cell_type": "markdown",
   "metadata": {},
   "source": [
    "# User-User Collaborative Filtering\n",
    "\n",
    "User-User Collaborative Filtering is a recommendation technique that finds similar users based on their interactions and preferences or segment to suggest items.\n",
    "\n",
    "## Steps\n",
    "\n",
    "--- \n",
    "\n",
    "### 1. Creating a User-Item Matrix\n",
    "- Creating the matrix where rows represent users, and columns represent items.\n",
    "- Each cell contains a value representing the interaction between the user and the item AND his segment (gender, age group).\n",
    "\n",
    "> note: Segmented user similarity can be done choosing features targuet in the dataset `user_item_profile`.\n",
    "\n",
    "### 2. Scaling the Data\n",
    "- Since different users may have different interaction levels, scaling is necessary.\n",
    "- Apply an appropriate scaler depending on the data type:\n",
    "  - **StandardScaler**: If data follows a normal distribution.\n",
    "  - **MinMaxScaler**: If values need to be normalized between a range.\n",
    "\n",
    "### 3. Calculating Cosine Similarity\n",
    "- Compute the pairwise similarity between users using **Cosine Similarity**.\n",
    "\n",
    "- This generates a **User-User Similarity Matrix**, where each entry \\((i, j)\\) represents the similarity between users \\(i\\) and \\(j\\).\n",
    "\n",
    "### 4. Generating Recommendations\n",
    "- For a target user:\n",
    "  - Identify the most similar users (neighbors) based on the similarity matrix.\n",
    "  - Aggregate their interactions to predict scores for items the target user has not interacted with.\n",
    "  - Rank items based on predicted scores and recommend the highest-ranked items.\n",
    "\n",
    "---"
   ]
  },
  {
   "cell_type": "markdown",
   "metadata": {},
   "source": [
    "### Creating USER-ITEM matrix"
   ]
  },
  {
   "cell_type": "code",
   "execution_count": 93,
   "metadata": {},
   "outputs": [
    {
     "name": "stdout",
     "output_type": "stream",
     "text": [
      "<class 'pandas.core.frame.DataFrame'>\n",
      "Index: 14487 entries, 0610b486422d4921ae7d2bf64640c50b to e4052622e5ba45a8b96b59aba68cf068\n",
      "Data columns (total 40 columns):\n",
      " #   Column               Non-Null Count  Dtype  \n",
      "---  ------               --------------  -----  \n",
      " 0   income               14487 non-null  float64\n",
      " 1   cnt_completed_ofr_G  14487 non-null  float64\n",
      " 2   cnt_completed_ofr_I  14487 non-null  float64\n",
      " 3   cnt_completed_ofr_J  14487 non-null  float64\n",
      " 4   cnt_received_ofr_C   14487 non-null  float64\n",
      " 5   cnt_received_ofr_G   14487 non-null  float64\n",
      " 6   cnt_received_ofr_H   14487 non-null  float64\n",
      " 7   cnt_received_ofr_I   14487 non-null  float64\n",
      " 8   cnt_received_ofr_J   14487 non-null  float64\n",
      " 9   cnt_viewed_ofr_C     14487 non-null  float64\n",
      " 10  cnt_viewed_ofr_G     14487 non-null  float64\n",
      " 11  cnt_viewed_ofr_H     14487 non-null  float64\n",
      " 12  cnt_viewed_ofr_I     14487 non-null  float64\n",
      " 13  cnt_completed_ofr_D  14487 non-null  float64\n",
      " 14  cnt_completed_ofr_E  14487 non-null  float64\n",
      " 15  cnt_completed_ofr_F  14487 non-null  float64\n",
      " 16  cnt_received_ofr_D   14487 non-null  float64\n",
      " 17  cnt_received_ofr_E   14487 non-null  float64\n",
      " 18  cnt_received_ofr_F   14487 non-null  float64\n",
      " 19  cnt_viewed_ofr_D     14487 non-null  float64\n",
      " 20  cnt_viewed_ofr_E     14487 non-null  float64\n",
      " 21  cnt_viewed_ofr_F     14487 non-null  float64\n",
      " 22  cnt_completed_ofr_B  14487 non-null  float64\n",
      " 23  cnt_received_ofr_A   14487 non-null  float64\n",
      " 24  cnt_received_ofr_B   14487 non-null  float64\n",
      " 25  cnt_viewed_ofr_B     14487 non-null  float64\n",
      " 26  cnt_completed_ofr_A  14487 non-null  float64\n",
      " 27  cnt_viewed_ofr_A     14487 non-null  float64\n",
      " 28  cnt_viewed_ofr_J     14487 non-null  float64\n",
      " 29  cnt_transaction      14487 non-null  float64\n",
      " 30  sum_transaction      14487 non-null  float64\n",
      " 31  age_Adult            14487 non-null  int64  \n",
      " 32  age_Middle           14487 non-null  int64  \n",
      " 33  age_Senior           14487 non-null  int64  \n",
      " 34  age_Young            14487 non-null  int64  \n",
      " 35  age_nan              14487 non-null  int64  \n",
      " 36  gen_F                14487 non-null  int64  \n",
      " 37  gen_M                14487 non-null  int64  \n",
      " 38  gen_O                14487 non-null  int64  \n",
      " 39  gen_nan              14487 non-null  int64  \n",
      "dtypes: float64(31), int64(9)\n",
      "memory usage: 4.5+ MB\n"
     ]
    }
   ],
   "source": [
    "# creating user-item matrix choosing all feature in user_item_matrix\n",
    "user_item_matrix = (pd.concat([\n",
    "    user_item_profile.drop(columns=['age_group']),\n",
    "    pd.get_dummies(user_item_profile['age_group'], dummy_na=True, prefix='age').astype(int),\n",
    "    pd.get_dummies(user_item_profile['gender'], dummy_na=True, prefix='gen').astype(int)\n",
    "    ], axis=1)\n",
    "    .drop(columns=['age', 'gender', 'became_member_on', 'bec_memb_year_month'])\n",
    "    .dropna()\n",
    "    #.fillna(0)\n",
    "    )\n",
    "\n",
    "# setting index as person id\n",
    "user_item_matrix.index = user_item_matrix['id']\n",
    "user_item_matrix = user_item_matrix.drop(columns=['id'])\n",
    "\n",
    "user_item_matrix.info()"
   ]
  },
  {
   "cell_type": "markdown",
   "metadata": {},
   "source": [
    "### Scalling dataset\n",
    "\n",
    "- As scaler is sensible to data distribution, it will show if there is a normal aspect"
   ]
  },
  {
   "cell_type": "code",
   "execution_count": 36,
   "metadata": {},
   "outputs": [
    {
     "data": {
      "image/png": "[encoded data removed]",
      "text/plain": [
       "<Figure size 600x400 with 2 Axes>"
      ]
     },
     "metadata": {},
     "output_type": "display_data"
    },
    {
     "name": "stdout",
     "output_type": "stream",
     "text": [
      "NOT seem like normal!\n"
     ]
    }
   ],
   "source": [
    "# Instantiate figure\n",
    "fig, axes = plt.subplots(1, 2, figsize=(6, 4)) \n",
    "\n",
    "# histograms contruction\n",
    "axes[0].hist(user_item_matrix['income'], bins=30)\n",
    "axes[0].set_title('Distribution of Income')\n",
    "\n",
    "axes[1].hist(user_item_matrix['sum_transaction'], bins=30)\n",
    "axes[1].set_title('Distribution of Sum Transaction')\n",
    "\n",
    "# plotting\n",
    "plt.tight_layout()\n",
    "plt.show()\n",
    "\n",
    "print('NOT seem like normal!')"
   ]
  },
  {
   "cell_type": "markdown",
   "metadata": {},
   "source": [
    "- choosing MinMaxScaler as scaler function"
   ]
  },
  {
   "cell_type": "code",
   "execution_count": 95,
   "metadata": {},
   "outputs": [
    {
     "name": "stdout",
     "output_type": "stream",
     "text": [
      "<class 'pandas.core.frame.DataFrame'>\n",
      "Index: 14487 entries, 0610b486422d4921ae7d2bf64640c50b to e4052622e5ba45a8b96b59aba68cf068\n",
      "Data columns (total 40 columns):\n",
      " #   Column               Non-Null Count  Dtype  \n",
      "---  ------               --------------  -----  \n",
      " 0   income               14487 non-null  float64\n",
      " 1   cnt_completed_ofr_G  14487 non-null  float64\n",
      " 2   cnt_completed_ofr_I  14487 non-null  float64\n",
      " 3   cnt_completed_ofr_J  14487 non-null  float64\n",
      " 4   cnt_received_ofr_C   14487 non-null  float64\n",
      " 5   cnt_received_ofr_G   14487 non-null  float64\n",
      " 6   cnt_received_ofr_H   14487 non-null  float64\n",
      " 7   cnt_received_ofr_I   14487 non-null  float64\n",
      " 8   cnt_received_ofr_J   14487 non-null  float64\n",
      " 9   cnt_viewed_ofr_C     14487 non-null  float64\n",
      " 10  cnt_viewed_ofr_G     14487 non-null  float64\n",
      " 11  cnt_viewed_ofr_H     14487 non-null  float64\n",
      " 12  cnt_viewed_ofr_I     14487 non-null  float64\n",
      " 13  cnt_completed_ofr_D  14487 non-null  float64\n",
      " 14  cnt_completed_ofr_E  14487 non-null  float64\n",
      " 15  cnt_completed_ofr_F  14487 non-null  float64\n",
      " 16  cnt_received_ofr_D   14487 non-null  float64\n",
      " 17  cnt_received_ofr_E   14487 non-null  float64\n",
      " 18  cnt_received_ofr_F   14487 non-null  float64\n",
      " 19  cnt_viewed_ofr_D     14487 non-null  float64\n",
      " 20  cnt_viewed_ofr_E     14487 non-null  float64\n",
      " 21  cnt_viewed_ofr_F     14487 non-null  float64\n",
      " 22  cnt_completed_ofr_B  14487 non-null  float64\n",
      " 23  cnt_received_ofr_A   14487 non-null  float64\n",
      " 24  cnt_received_ofr_B   14487 non-null  float64\n",
      " 25  cnt_viewed_ofr_B     14487 non-null  float64\n",
      " 26  cnt_completed_ofr_A  14487 non-null  float64\n",
      " 27  cnt_viewed_ofr_A     14487 non-null  float64\n",
      " 28  cnt_viewed_ofr_J     14487 non-null  float64\n",
      " 29  cnt_transaction      14487 non-null  float64\n",
      " 30  sum_transaction      14487 non-null  float64\n",
      " 31  age_Adult            14487 non-null  float64\n",
      " 32  age_Middle           14487 non-null  float64\n",
      " 33  age_Senior           14487 non-null  float64\n",
      " 34  age_Young            14487 non-null  float64\n",
      " 35  age_nan              14487 non-null  float64\n",
      " 36  gen_F                14487 non-null  float64\n",
      " 37  gen_M                14487 non-null  float64\n",
      " 38  gen_O                14487 non-null  float64\n",
      " 39  gen_nan              14487 non-null  float64\n",
      "dtypes: float64(40)\n",
      "memory usage: 4.5+ MB\n"
     ]
    }
   ],
   "source": [
    "df = user_item_matrix\n",
    "\n",
    "scaler_counts = MinMaxScaler()\n",
    "\n",
    "df = scaler_counts.fit_transform(df)\n",
    "\n",
    "df = pd.DataFrame(df, index=user_item_matrix.index, columns=user_item_matrix.columns)\n",
    "\n",
    "df.info()"
   ]
  },
  {
   "cell_type": "markdown",
   "metadata": {},
   "source": [
    "### Creating user similarity matrix"
   ]
  },
  {
   "cell_type": "code",
   "execution_count": 45,
   "metadata": {},
   "outputs": [],
   "source": [
    "# Compute user similarity\n",
    "user_similarity_df = None\n",
    "user_similarity = cosine_similarity(df)\n",
    "user_similarity_df = pd.DataFrame(user_similarity, index=df.index, columns=df.index)\n",
    "user_similarity_df"
   ]
  },
  {
   "cell_type": "markdown",
   "metadata": {},
   "source": [
    "### Definning a recommendation function"
   ]
  },
  {
   "cell_type": "code",
   "execution_count": 162,
   "metadata": {},
   "outputs": [],
   "source": [
    "def recommend_user_based(user_id, user_similarity_df, event):\n",
    "    \"\"\"\n",
    "    Recommend products to a user based on similar users' preferences.\n",
    "    \n",
    "    Parameters:\n",
    "        user_id (int/str): The ID of the target user.\n",
    "        user_similarity_df (pd.DataFrame): DataFrame containing user similarity scores.\n",
    "        event (pd.DataFrame): DataFrame containing user interactions with products.\n",
    "    \n",
    "    Returns:\n",
    "        list: List of recommended product IDs.\n",
    "    \"\"\"\n",
    "    print('*** User-User Collaborative Filtering ***\\n')\n",
    "\n",
    "    if user_id not in user_similarity_df.index:\n",
    "        return ['the user is not in the similarity matrix']  # Return an empty list if the user is not in the similarity matrix\n",
    "\n",
    "\n",
    "\n",
    "    recommendations = []\n",
    "    i = 0\n",
    "    while recommendations == [] or len(recommendations) < 3:\n",
    "        \n",
    "        # Get products that user have seem\n",
    "        user_products = {x for x in event[event['person'] == user_id]['ofr_id_short']}\n",
    "\n",
    "        # Get similar users, excluding the current user\n",
    "        similar_users = user_similarity_df[user_id].drop(index=user_id).sort_values(ascending=False)\n",
    "        most_similar_user = similar_users.index[i]  # Retrieve the most similar user\n",
    "\n",
    "        # Retrieve the products interacted by most similar users\n",
    "        similar_user_products = {x for x in event[event['person'] == most_similar_user]['ofr_id_short']}\n",
    "\n",
    "        # ranking the products of the most similar user\n",
    "        ranked_similar_user_products = (rank.loc[rank['ofr_id_short'].isin(similar_user_products),:]\n",
    "                                        .sort_values(by=['sum_influ', 'completition_rate'], ascending=False)['ofr_id_short']\n",
    "                                        ).tolist()\n",
    "        \n",
    "        # Recommend products that the similar user has interacted with but the current user hasn't\n",
    "        recommendations = [x for x in ranked_similar_user_products if x not in user_products]\n",
    "        i += 1\n",
    "    \n",
    "    print(f'Current user ({user_id}) products: {user_products}\\n')\n",
    "    print(f'First one Similar user found: {most_similar_user}')\n",
    "    print(f'Products of first one similar user ({most_similar_user}): {similar_user_products}')\n",
    "    print(f'Three best Recommendation(s) for current user: {recommendations}')\n",
    "    print('------------------\\n')\n",
    "\n",
    "    return recommendations\n",
    "\n"
   ]
  },
  {
   "cell_type": "markdown",
   "metadata": {},
   "source": [
    "## Cheking for two person"
   ]
  },
  {
   "cell_type": "code",
   "execution_count": 111,
   "metadata": {},
   "outputs": [
    {
     "name": "stdout",
     "output_type": "stream",
     "text": [
      "*** User-User Collaborative Filtering ***\n",
      "\n",
      "Current user (01d26f638c274aa0b965d24cefe3183f) products: {'ofr_C', 'ofr_E', 'ofr_H'}\n",
      "\n",
      "First one Similar user found: 2ca6147969524c5a8ce2b48aade075ab\n",
      "\n",
      "Products of first one similar user (2ca6147969524c5a8ce2b48aade075ab): {'ofr_C', 'ofr_E', 'ofr_J', 'ofr_B', 'ofr_F', 'ofr_H'}\n",
      "\n",
      "Three best Recommendation(s) for current user: ['ofr_F', 'ofr_B', 'ofr_J']\n",
      "\n"
     ]
    },
    {
     "data": {
      "text/plain": [
       "0    ofr_F\n",
       "1    ofr_B\n",
       "2    ofr_J\n",
       "Name: 01d26f638c274aa0b965d24cefe3183f, dtype: object"
      ]
     },
     "execution_count": 111,
     "metadata": {},
     "output_type": "execute_result"
    }
   ],
   "source": [
    "u1 = pd.Series(recommend_user_based('01d26f638c274aa0b965d24cefe3183f', user_similarity_df, event), name='01d26f638c274aa0b965d24cefe3183f')\n",
    "u1"
   ]
  },
  {
   "cell_type": "code",
   "execution_count": 110,
   "metadata": {},
   "outputs": [
    {
     "name": "stdout",
     "output_type": "stream",
     "text": [
      "*** User-User Collaborative Filtering ***\n",
      "\n",
      "Current user (2cb4f97358b841b9a9773a7aa05a9d77) products: {'ofr_C', 'ofr_D', 'ofr_H'}\n",
      "\n",
      "First one Similar user found: 92dc99da6df84cd8ab45f30e548bda2c\n",
      "\n",
      "Products of first one similar user (92dc99da6df84cd8ab45f30e548bda2c): {'ofr_E', 'ofr_G', 'ofr_F', 'ofr_H', 'ofr_D'}\n",
      "\n",
      "Three best Recommendation(s) for current user: ['ofr_G', 'ofr_F', 'ofr_E']\n",
      "\n"
     ]
    },
    {
     "data": {
      "text/plain": [
       "0    ofr_G\n",
       "1    ofr_F\n",
       "2    ofr_E\n",
       "Name: 2cb4f97358b841b9a9773a7aa05a9d77, dtype: object"
      ]
     },
     "execution_count": 110,
     "metadata": {},
     "output_type": "execute_result"
    }
   ],
   "source": [
    "u2 = pd.Series(recommend_user_based('2cb4f97358b841b9a9773a7aa05a9d77', user_similarity_df, event), name='2cb4f97358b841b9a9773a7aa05a9d77')\n",
    "u2"
   ]
  },
  {
   "cell_type": "code",
   "execution_count": 131,
   "metadata": {},
   "outputs": [
    {
     "data": {
      "text/plain": [
       "['c60f5cd0bdc64124bf1c206f9bf94c64',\n",
       " 'eefff7e6ce0344c2a85ab5dd21db8399',\n",
       " '829e2363d8764ef98a8aee9159028621',\n",
       " 'f0a08a63363940a8bf6124a7cca1683b',\n",
       " '906a503983444d939dbb4c97e34ba9d2',\n",
       " '14b8e91e01a348198b6f4fb0f28d9ab1',\n",
       " '61b362601d934a5998c6d40737f5a62e',\n",
       " 'a13ec678393e4503958b05b787a2938b',\n",
       " '01f46a5191424005af436cdf48a5da7c',\n",
       " '6c6e608242534d68bc1ad45a2d547080']"
      ]
     },
     "execution_count": 131,
     "metadata": {},
     "output_type": "execute_result"
    }
   ],
   "source": [
    "person_list = list({x for x in unique_event_features['person']})\n",
    "person_list = person_list[:10]\n",
    "person_list"
   ]
  },
  {
   "cell_type": "code",
   "execution_count": 171,
   "metadata": {},
   "outputs": [
    {
     "name": "stdout",
     "output_type": "stream",
     "text": [
      "*** Rank-Based Recommendations ***\n",
      "\n",
      "The person saw: ['ofr_J' 'ofr_A' 'ofr_F' 'ofr_C']\n",
      "The recommended offers to person c60f5cd0bdc64124bf1c206f9bf94c64 are: ['ofr_G', 'ofr_I', 'ofr_B', 'ofr_D', 'ofr_E', 'ofr_H']\n",
      "------------------\n",
      "\n",
      "*** User-User Collaborative Filtering ***\n",
      "\n",
      "Current user (c60f5cd0bdc64124bf1c206f9bf94c64) products: {'ofr_C', 'ofr_F', 'ofr_J', 'ofr_A'}\n",
      "\n",
      "First one Similar user found: da9557652a704bb59cbc84cbf2b7f7d8\n",
      "Products of first one similar user (da9557652a704bb59cbc84cbf2b7f7d8): {'ofr_C', 'ofr_E', 'ofr_A', 'ofr_I', 'ofr_G'}\n",
      "Three best Recommendation(s) for current user: ['ofr_G', 'ofr_I', 'ofr_E']\n",
      "------------------\n",
      "*** Rank-Based Recommendations ***\n",
      "\n",
      "The person saw: ['ofr_I' 'ofr_G' 'ofr_C']\n",
      "The recommended offers to person eefff7e6ce0344c2a85ab5dd21db8399 are: ['ofr_F', 'ofr_B', 'ofr_A', 'ofr_D', 'ofr_J', 'ofr_E', 'ofr_H']\n",
      "------------------\n",
      "\n",
      "*** User-User Collaborative Filtering ***\n",
      "\n",
      "*** Rank-Based Recommendations ***\n",
      "\n",
      "The person saw: ['ofr_H' 'ofr_A' 'ofr_D']\n",
      "The recommended offers to person 829e2363d8764ef98a8aee9159028621 are: ['ofr_G', 'ofr_F', 'ofr_I', 'ofr_B', 'ofr_J', 'ofr_E', 'ofr_C']\n",
      "------------------\n",
      "\n",
      "*** User-User Collaborative Filtering ***\n",
      "\n",
      "Current user (829e2363d8764ef98a8aee9159028621) products: {'ofr_A', 'ofr_D', 'ofr_H'}\n",
      "\n",
      "First one Similar user found: a90ef297656f4150af47cd391adf276a\n",
      "Products of first one similar user (a90ef297656f4150af47cd391adf276a): {'ofr_J', 'ofr_B', 'ofr_I', 'ofr_H', 'ofr_D'}\n",
      "Three best Recommendation(s) for current user: ['ofr_I', 'ofr_B', 'ofr_J']\n",
      "------------------\n",
      "*** Rank-Based Recommendations ***\n",
      "\n",
      "The person saw: ['ofr_E' 'ofr_D' 'ofr_I']\n",
      "The recommended offers to person f0a08a63363940a8bf6124a7cca1683b are: ['ofr_G', 'ofr_F', 'ofr_B', 'ofr_A', 'ofr_J', 'ofr_C', 'ofr_H']\n",
      "------------------\n",
      "\n",
      "*** User-User Collaborative Filtering ***\n",
      "\n",
      "*** Rank-Based Recommendations ***\n",
      "\n",
      "The person saw: ['ofr_F' 'ofr_A']\n",
      "The recommended offers to person 906a503983444d939dbb4c97e34ba9d2 are: ['ofr_G', 'ofr_I', 'ofr_B', 'ofr_D', 'ofr_J', 'ofr_E', 'ofr_C', 'ofr_H']\n",
      "------------------\n",
      "\n",
      "*** User-User Collaborative Filtering ***\n",
      "\n",
      "Current user (906a503983444d939dbb4c97e34ba9d2) products: {'ofr_F', 'ofr_A'}\n",
      "\n",
      "First one Similar user found: daaa478470c54a9bb2a4c1d95b5a4e53\n",
      "Products of first one similar user (daaa478470c54a9bb2a4c1d95b5a4e53): {'ofr_C', 'ofr_E', 'ofr_B', 'ofr_A', 'ofr_F'}\n",
      "Three best Recommendation(s) for current user: ['ofr_B', 'ofr_E', 'ofr_C']\n",
      "------------------\n",
      "*** Rank-Based Recommendations ***\n",
      "\n",
      "The person saw: ['ofr_G' 'ofr_A' 'ofr_H' 'ofr_I']\n",
      "The recommended offers to person 14b8e91e01a348198b6f4fb0f28d9ab1 are: ['ofr_F', 'ofr_B', 'ofr_D', 'ofr_J', 'ofr_E', 'ofr_C']\n",
      "------------------\n",
      "\n",
      "*** User-User Collaborative Filtering ***\n",
      "\n",
      "Current user (14b8e91e01a348198b6f4fb0f28d9ab1) products: {'ofr_G', 'ofr_H', 'ofr_I', 'ofr_A'}\n",
      "\n",
      "First one Similar user found: ba8457f994234f27bb0703e60518ba26\n",
      "Products of first one similar user (ba8457f994234f27bb0703e60518ba26): {'ofr_J', 'ofr_B', 'ofr_G', 'ofr_A', 'ofr_I', 'ofr_D'}\n",
      "Three best Recommendation(s) for current user: ['ofr_B', 'ofr_D', 'ofr_J']\n",
      "------------------\n",
      "*** Rank-Based Recommendations ***\n",
      "\n",
      "The person saw: ['ofr_D' 'ofr_I']\n",
      "The recommended offers to person 61b362601d934a5998c6d40737f5a62e are: ['ofr_G', 'ofr_F', 'ofr_B', 'ofr_A', 'ofr_J', 'ofr_E', 'ofr_C', 'ofr_H']\n",
      "------------------\n",
      "\n",
      "*** User-User Collaborative Filtering ***\n",
      "\n",
      "Current user (61b362601d934a5998c6d40737f5a62e) products: {'ofr_I', 'ofr_D'}\n",
      "\n",
      "First one Similar user found: 2c969df103ad4ed5a4e9fc6ba6daa8ed\n",
      "Products of first one similar user (2c969df103ad4ed5a4e9fc6ba6daa8ed): {'ofr_C', 'ofr_I', 'ofr_F', 'ofr_H', 'ofr_D'}\n",
      "Three best Recommendation(s) for current user: ['ofr_F', 'ofr_C', 'ofr_H']\n",
      "------------------\n",
      "*** Rank-Based Recommendations ***\n",
      "\n",
      "The person saw: ['ofr_E' 'ofr_I' 'ofr_H' 'ofr_A' 'ofr_C']\n",
      "The recommended offers to person a13ec678393e4503958b05b787a2938b are: ['ofr_G', 'ofr_F', 'ofr_B', 'ofr_D', 'ofr_J']\n",
      "------------------\n",
      "\n",
      "*** User-User Collaborative Filtering ***\n",
      "\n",
      "Current user (a13ec678393e4503958b05b787a2938b) products: {'ofr_C', 'ofr_E', 'ofr_A', 'ofr_I', 'ofr_H'}\n",
      "\n",
      "First one Similar user found: 60c70060356f410ca290c7b15b58605a\n",
      "Products of first one similar user (60c70060356f410ca290c7b15b58605a): {'ofr_E', 'ofr_J', 'ofr_A', 'ofr_G', 'ofr_I', 'ofr_B'}\n",
      "Three best Recommendation(s) for current user: ['ofr_G', 'ofr_B', 'ofr_J']\n",
      "------------------\n",
      "*** Rank-Based Recommendations ***\n",
      "\n",
      "The person saw: ['ofr_D' 'ofr_A']\n",
      "The recommended offers to person 01f46a5191424005af436cdf48a5da7c are: ['ofr_G', 'ofr_F', 'ofr_I', 'ofr_B', 'ofr_J', 'ofr_E', 'ofr_C', 'ofr_H']\n",
      "------------------\n",
      "\n",
      "*** User-User Collaborative Filtering ***\n",
      "\n",
      "Current user (01f46a5191424005af436cdf48a5da7c) products: {'ofr_D', 'ofr_A'}\n",
      "\n",
      "First one Similar user found: d0be9ff460964c3398a33ad9b2829f3a\n",
      "Products of first one similar user (d0be9ff460964c3398a33ad9b2829f3a): {'ofr_E', 'ofr_J', 'ofr_A', 'ofr_G', 'ofr_D'}\n",
      "Three best Recommendation(s) for current user: ['ofr_G', 'ofr_J', 'ofr_E']\n",
      "------------------\n",
      "*** Rank-Based Recommendations ***\n",
      "\n",
      "The person saw: ['ofr_C' 'ofr_H' 'ofr_E' 'ofr_G']\n",
      "The recommended offers to person 6c6e608242534d68bc1ad45a2d547080 are: ['ofr_F', 'ofr_I', 'ofr_B', 'ofr_A', 'ofr_D', 'ofr_J']\n",
      "------------------\n",
      "\n",
      "*** User-User Collaborative Filtering ***\n",
      "\n"
     ]
    }
   ],
   "source": [
    "rank_recom = []\n",
    "user_recom = []\n",
    "for person in person_list:\n",
    "    r = offer_rank_recommendation(person, event, rank)\n",
    "    u = recommend_user_based(person, user_similarity_df, event)\n",
    "    rank_recom.append(r)\n",
    "    user_recom.append(u)\n",
    "\n",
    "rank_recom = pd.DataFrame(rank_recom).fillna('-')\n",
    "rank_recom.columns = [f'ofr_rec_{i}' for i in range(rank_recom.shape[1])]\n",
    "rank_recom.index = person_list\n",
    "\n",
    "\n",
    "user_recom = pd.DataFrame(user_recom).fillna('-')\n",
    "user_recom.columns = [f'ofr_rec_{i}' for i in range(user_recom.shape[1])]\n",
    "user_recom.index = person_list\n"
   ]
  },
  {
   "cell_type": "code",
   "execution_count": 172,
   "metadata": {},
   "outputs": [
    {
     "data": {
      "text/html": [
       "<div>\n",
       "<style scoped>\n",
       "    .dataframe tbody tr th:only-of-type {\n",
       "        vertical-align: middle;\n",
       "    }\n",
       "\n",
       "    .dataframe tbody tr th {\n",
       "        vertical-align: top;\n",
       "    }\n",
       "\n",
       "    .dataframe thead th {\n",
       "        text-align: right;\n",
       "    }\n",
       "</style>\n",
       "<table border=\"1\" class=\"dataframe\">\n",
       "  <thead>\n",
       "    <tr style=\"text-align: right;\">\n",
       "      <th></th>\n",
       "      <th>ofr_rec_0</th>\n",
       "      <th>ofr_rec_1</th>\n",
       "      <th>ofr_rec_2</th>\n",
       "      <th>ofr_rec_3</th>\n",
       "      <th>ofr_rec_4</th>\n",
       "      <th>ofr_rec_5</th>\n",
       "      <th>ofr_rec_6</th>\n",
       "      <th>ofr_rec_7</th>\n",
       "    </tr>\n",
       "  </thead>\n",
       "  <tbody>\n",
       "    <tr>\n",
       "      <th>c60f5cd0bdc64124bf1c206f9bf94c64</th>\n",
       "      <td>ofr_G</td>\n",
       "      <td>ofr_I</td>\n",
       "      <td>ofr_B</td>\n",
       "      <td>ofr_D</td>\n",
       "      <td>ofr_E</td>\n",
       "      <td>ofr_H</td>\n",
       "      <td>-</td>\n",
       "      <td>-</td>\n",
       "    </tr>\n",
       "    <tr>\n",
       "      <th>eefff7e6ce0344c2a85ab5dd21db8399</th>\n",
       "      <td>ofr_F</td>\n",
       "      <td>ofr_B</td>\n",
       "      <td>ofr_A</td>\n",
       "      <td>ofr_D</td>\n",
       "      <td>ofr_J</td>\n",
       "      <td>ofr_E</td>\n",
       "      <td>ofr_H</td>\n",
       "      <td>-</td>\n",
       "    </tr>\n",
       "    <tr>\n",
       "      <th>829e2363d8764ef98a8aee9159028621</th>\n",
       "      <td>ofr_G</td>\n",
       "      <td>ofr_F</td>\n",
       "      <td>ofr_I</td>\n",
       "      <td>ofr_B</td>\n",
       "      <td>ofr_J</td>\n",
       "      <td>ofr_E</td>\n",
       "      <td>ofr_C</td>\n",
       "      <td>-</td>\n",
       "    </tr>\n",
       "    <tr>\n",
       "      <th>f0a08a63363940a8bf6124a7cca1683b</th>\n",
       "      <td>ofr_G</td>\n",
       "      <td>ofr_F</td>\n",
       "      <td>ofr_B</td>\n",
       "      <td>ofr_A</td>\n",
       "      <td>ofr_J</td>\n",
       "      <td>ofr_C</td>\n",
       "      <td>ofr_H</td>\n",
       "      <td>-</td>\n",
       "    </tr>\n",
       "    <tr>\n",
       "      <th>906a503983444d939dbb4c97e34ba9d2</th>\n",
       "      <td>ofr_G</td>\n",
       "      <td>ofr_I</td>\n",
       "      <td>ofr_B</td>\n",
       "      <td>ofr_D</td>\n",
       "      <td>ofr_J</td>\n",
       "      <td>ofr_E</td>\n",
       "      <td>ofr_C</td>\n",
       "      <td>ofr_H</td>\n",
       "    </tr>\n",
       "    <tr>\n",
       "      <th>14b8e91e01a348198b6f4fb0f28d9ab1</th>\n",
       "      <td>ofr_F</td>\n",
       "      <td>ofr_B</td>\n",
       "      <td>ofr_D</td>\n",
       "      <td>ofr_J</td>\n",
       "      <td>ofr_E</td>\n",
       "      <td>ofr_C</td>\n",
       "      <td>-</td>\n",
       "      <td>-</td>\n",
       "    </tr>\n",
       "    <tr>\n",
       "      <th>61b362601d934a5998c6d40737f5a62e</th>\n",
       "      <td>ofr_G</td>\n",
       "      <td>ofr_F</td>\n",
       "      <td>ofr_B</td>\n",
       "      <td>ofr_A</td>\n",
       "      <td>ofr_J</td>\n",
       "      <td>ofr_E</td>\n",
       "      <td>ofr_C</td>\n",
       "      <td>ofr_H</td>\n",
       "    </tr>\n",
       "    <tr>\n",
       "      <th>a13ec678393e4503958b05b787a2938b</th>\n",
       "      <td>ofr_G</td>\n",
       "      <td>ofr_F</td>\n",
       "      <td>ofr_B</td>\n",
       "      <td>ofr_D</td>\n",
       "      <td>ofr_J</td>\n",
       "      <td>-</td>\n",
       "      <td>-</td>\n",
       "      <td>-</td>\n",
       "    </tr>\n",
       "    <tr>\n",
       "      <th>01f46a5191424005af436cdf48a5da7c</th>\n",
       "      <td>ofr_G</td>\n",
       "      <td>ofr_F</td>\n",
       "      <td>ofr_I</td>\n",
       "      <td>ofr_B</td>\n",
       "      <td>ofr_J</td>\n",
       "      <td>ofr_E</td>\n",
       "      <td>ofr_C</td>\n",
       "      <td>ofr_H</td>\n",
       "    </tr>\n",
       "    <tr>\n",
       "      <th>6c6e608242534d68bc1ad45a2d547080</th>\n",
       "      <td>ofr_F</td>\n",
       "      <td>ofr_I</td>\n",
       "      <td>ofr_B</td>\n",
       "      <td>ofr_A</td>\n",
       "      <td>ofr_D</td>\n",
       "      <td>ofr_J</td>\n",
       "      <td>-</td>\n",
       "      <td>-</td>\n",
       "    </tr>\n",
       "  </tbody>\n",
       "</table>\n",
       "</div>"
      ],
      "text/plain": [
       "                                 ofr_rec_0 ofr_rec_1 ofr_rec_2 ofr_rec_3  \\\n",
       "c60f5cd0bdc64124bf1c206f9bf94c64     ofr_G     ofr_I     ofr_B     ofr_D   \n",
       "eefff7e6ce0344c2a85ab5dd21db8399     ofr_F     ofr_B     ofr_A     ofr_D   \n",
       "829e2363d8764ef98a8aee9159028621     ofr_G     ofr_F     ofr_I     ofr_B   \n",
       "f0a08a63363940a8bf6124a7cca1683b     ofr_G     ofr_F     ofr_B     ofr_A   \n",
       "906a503983444d939dbb4c97e34ba9d2     ofr_G     ofr_I     ofr_B     ofr_D   \n",
       "14b8e91e01a348198b6f4fb0f28d9ab1     ofr_F     ofr_B     ofr_D     ofr_J   \n",
       "61b362601d934a5998c6d40737f5a62e     ofr_G     ofr_F     ofr_B     ofr_A   \n",
       "a13ec678393e4503958b05b787a2938b     ofr_G     ofr_F     ofr_B     ofr_D   \n",
       "01f46a5191424005af436cdf48a5da7c     ofr_G     ofr_F     ofr_I     ofr_B   \n",
       "6c6e608242534d68bc1ad45a2d547080     ofr_F     ofr_I     ofr_B     ofr_A   \n",
       "\n",
       "                                 ofr_rec_4 ofr_rec_5 ofr_rec_6 ofr_rec_7  \n",
       "c60f5cd0bdc64124bf1c206f9bf94c64     ofr_E     ofr_H         -         -  \n",
       "eefff7e6ce0344c2a85ab5dd21db8399     ofr_J     ofr_E     ofr_H         -  \n",
       "829e2363d8764ef98a8aee9159028621     ofr_J     ofr_E     ofr_C         -  \n",
       "f0a08a63363940a8bf6124a7cca1683b     ofr_J     ofr_C     ofr_H         -  \n",
       "906a503983444d939dbb4c97e34ba9d2     ofr_J     ofr_E     ofr_C     ofr_H  \n",
       "14b8e91e01a348198b6f4fb0f28d9ab1     ofr_E     ofr_C         -         -  \n",
       "61b362601d934a5998c6d40737f5a62e     ofr_J     ofr_E     ofr_C     ofr_H  \n",
       "a13ec678393e4503958b05b787a2938b     ofr_J         -         -         -  \n",
       "01f46a5191424005af436cdf48a5da7c     ofr_J     ofr_E     ofr_C     ofr_H  \n",
       "6c6e608242534d68bc1ad45a2d547080     ofr_D     ofr_J         -         -  "
      ]
     },
     "execution_count": 172,
     "metadata": {},
     "output_type": "execute_result"
    }
   ],
   "source": [
    "rank_recom"
   ]
  },
  {
   "cell_type": "code",
   "execution_count": 173,
   "metadata": {},
   "outputs": [
    {
     "data": {
      "text/html": [
       "<div>\n",
       "<style scoped>\n",
       "    .dataframe tbody tr th:only-of-type {\n",
       "        vertical-align: middle;\n",
       "    }\n",
       "\n",
       "    .dataframe tbody tr th {\n",
       "        vertical-align: top;\n",
       "    }\n",
       "\n",
       "    .dataframe thead th {\n",
       "        text-align: right;\n",
       "    }\n",
       "</style>\n",
       "<table border=\"1\" class=\"dataframe\">\n",
       "  <thead>\n",
       "    <tr style=\"text-align: right;\">\n",
       "      <th></th>\n",
       "      <th>ofr_rec_0</th>\n",
       "      <th>ofr_rec_1</th>\n",
       "      <th>ofr_rec_2</th>\n",
       "    </tr>\n",
       "  </thead>\n",
       "  <tbody>\n",
       "    <tr>\n",
       "      <th>c60f5cd0bdc64124bf1c206f9bf94c64</th>\n",
       "      <td>ofr_G</td>\n",
       "      <td>ofr_I</td>\n",
       "      <td>ofr_E</td>\n",
       "    </tr>\n",
       "    <tr>\n",
       "      <th>eefff7e6ce0344c2a85ab5dd21db8399</th>\n",
       "      <td>the user is not in the similarity matrix</td>\n",
       "      <td>-</td>\n",
       "      <td>-</td>\n",
       "    </tr>\n",
       "    <tr>\n",
       "      <th>829e2363d8764ef98a8aee9159028621</th>\n",
       "      <td>ofr_I</td>\n",
       "      <td>ofr_B</td>\n",
       "      <td>ofr_J</td>\n",
       "    </tr>\n",
       "    <tr>\n",
       "      <th>f0a08a63363940a8bf6124a7cca1683b</th>\n",
       "      <td>the user is not in the similarity matrix</td>\n",
       "      <td>-</td>\n",
       "      <td>-</td>\n",
       "    </tr>\n",
       "    <tr>\n",
       "      <th>906a503983444d939dbb4c97e34ba9d2</th>\n",
       "      <td>ofr_B</td>\n",
       "      <td>ofr_E</td>\n",
       "      <td>ofr_C</td>\n",
       "    </tr>\n",
       "    <tr>\n",
       "      <th>14b8e91e01a348198b6f4fb0f28d9ab1</th>\n",
       "      <td>ofr_B</td>\n",
       "      <td>ofr_D</td>\n",
       "      <td>ofr_J</td>\n",
       "    </tr>\n",
       "    <tr>\n",
       "      <th>61b362601d934a5998c6d40737f5a62e</th>\n",
       "      <td>ofr_F</td>\n",
       "      <td>ofr_C</td>\n",
       "      <td>ofr_H</td>\n",
       "    </tr>\n",
       "    <tr>\n",
       "      <th>a13ec678393e4503958b05b787a2938b</th>\n",
       "      <td>ofr_G</td>\n",
       "      <td>ofr_B</td>\n",
       "      <td>ofr_J</td>\n",
       "    </tr>\n",
       "    <tr>\n",
       "      <th>01f46a5191424005af436cdf48a5da7c</th>\n",
       "      <td>ofr_G</td>\n",
       "      <td>ofr_J</td>\n",
       "      <td>ofr_E</td>\n",
       "    </tr>\n",
       "    <tr>\n",
       "      <th>6c6e608242534d68bc1ad45a2d547080</th>\n",
       "      <td>the user is not in the similarity matrix</td>\n",
       "      <td>-</td>\n",
       "      <td>-</td>\n",
       "    </tr>\n",
       "  </tbody>\n",
       "</table>\n",
       "</div>"
      ],
      "text/plain": [
       "                                                                 ofr_rec_0  \\\n",
       "c60f5cd0bdc64124bf1c206f9bf94c64                                     ofr_G   \n",
       "eefff7e6ce0344c2a85ab5dd21db8399  the user is not in the similarity matrix   \n",
       "829e2363d8764ef98a8aee9159028621                                     ofr_I   \n",
       "f0a08a63363940a8bf6124a7cca1683b  the user is not in the similarity matrix   \n",
       "906a503983444d939dbb4c97e34ba9d2                                     ofr_B   \n",
       "14b8e91e01a348198b6f4fb0f28d9ab1                                     ofr_B   \n",
       "61b362601d934a5998c6d40737f5a62e                                     ofr_F   \n",
       "a13ec678393e4503958b05b787a2938b                                     ofr_G   \n",
       "01f46a5191424005af436cdf48a5da7c                                     ofr_G   \n",
       "6c6e608242534d68bc1ad45a2d547080  the user is not in the similarity matrix   \n",
       "\n",
       "                                 ofr_rec_1 ofr_rec_2  \n",
       "c60f5cd0bdc64124bf1c206f9bf94c64     ofr_I     ofr_E  \n",
       "eefff7e6ce0344c2a85ab5dd21db8399         -         -  \n",
       "829e2363d8764ef98a8aee9159028621     ofr_B     ofr_J  \n",
       "f0a08a63363940a8bf6124a7cca1683b         -         -  \n",
       "906a503983444d939dbb4c97e34ba9d2     ofr_E     ofr_C  \n",
       "14b8e91e01a348198b6f4fb0f28d9ab1     ofr_D     ofr_J  \n",
       "61b362601d934a5998c6d40737f5a62e     ofr_C     ofr_H  \n",
       "a13ec678393e4503958b05b787a2938b     ofr_B     ofr_J  \n",
       "01f46a5191424005af436cdf48a5da7c     ofr_J     ofr_E  \n",
       "6c6e608242534d68bc1ad45a2d547080         -         -  "
      ]
     },
     "execution_count": 173,
     "metadata": {},
     "output_type": "execute_result"
    }
   ],
   "source": [
    "user_recom"
   ]
  }
 ],
 "metadata": {
  "kernelspec": {
   "display_name": ".env",
   "language": "python",
   "name": "python3"
  },
  "language_info": {
   "codemirror_mode": {
    "name": "ipython",
    "version": 3
   },
   "file_extension": ".py",
   "mimetype": "text/x-python",
   "name": "python",
   "nbconvert_exporter": "python",
   "pygments_lexer": "ipython3",
   "version": "3.13.0"
  }
 },
 "nbformat": 4,
 "nbformat_minor": 2
}
